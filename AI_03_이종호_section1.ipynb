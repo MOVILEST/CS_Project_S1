{
  "nbformat": 4,
  "nbformat_minor": 0,
  "metadata": {
    "colab": {
      "name": "CS_project1.ipynb",
      "provenance": [],
      "collapsed_sections": []
    },
    "kernelspec": {
      "name": "python3",
      "display_name": "Python 3"
    },
    "language_info": {
      "name": "python"
    }
  },
  "cells": [
    {
      "cell_type": "markdown",
      "metadata": {
        "id": "Ic4SAj0pdN9I"
      },
      "source": [
        "## **CodeStates Project 1**\n",
        "\n",
        "## 주어진 데이터를 바탕으로 **\"다음 분기에 어떤 게임을 설계해야 할지\"**에 대한 가장 적합한 결론을 내보도록 하겠습니다. "
      ]
    },
    {
      "cell_type": "code",
      "metadata": {
        "colab": {
          "base_uri": "https://localhost:8080/",
          "height": 242
        },
        "id": "x9M22CGdrcs_",
        "outputId": "21750234-005b-41ad-c268-3b23a470ca2f"
      },
      "source": [
        "# 데이터 불러오기\n",
        "import pandas as pd\n",
        "import numpy as np\n",
        "url = 'https://ds-lecture-data.s3.ap-northeast-2.amazonaws.com/datasets/vgames2.csv'\n",
        "df = pd.read_csv(url)\n",
        "df = df.set_index('Unnamed: 0')\n",
        "\n",
        "# 주어진 데이터 만으로는 결측치를 추정하기 어려워보이므로 결측치가 있는 행 삭제\n",
        "df = df.dropna()\n",
        "\n",
        "print(df.shape)\n",
        "df.head()"
      ],
      "execution_count": 149,
      "outputs": [
        {
          "output_type": "stream",
          "text": [
            "(16241, 9)\n"
          ],
          "name": "stdout"
        },
        {
          "output_type": "execute_result",
          "data": {
            "text/html": [
              "<div>\n",
              "<style scoped>\n",
              "    .dataframe tbody tr th:only-of-type {\n",
              "        vertical-align: middle;\n",
              "    }\n",
              "\n",
              "    .dataframe tbody tr th {\n",
              "        vertical-align: top;\n",
              "    }\n",
              "\n",
              "    .dataframe thead th {\n",
              "        text-align: right;\n",
              "    }\n",
              "</style>\n",
              "<table border=\"1\" class=\"dataframe\">\n",
              "  <thead>\n",
              "    <tr style=\"text-align: right;\">\n",
              "      <th></th>\n",
              "      <th>Name</th>\n",
              "      <th>Platform</th>\n",
              "      <th>Year</th>\n",
              "      <th>Genre</th>\n",
              "      <th>Publisher</th>\n",
              "      <th>NA_Sales</th>\n",
              "      <th>EU_Sales</th>\n",
              "      <th>JP_Sales</th>\n",
              "      <th>Other_Sales</th>\n",
              "    </tr>\n",
              "    <tr>\n",
              "      <th>Unnamed: 0</th>\n",
              "      <th></th>\n",
              "      <th></th>\n",
              "      <th></th>\n",
              "      <th></th>\n",
              "      <th></th>\n",
              "      <th></th>\n",
              "      <th></th>\n",
              "      <th></th>\n",
              "      <th></th>\n",
              "    </tr>\n",
              "  </thead>\n",
              "  <tbody>\n",
              "    <tr>\n",
              "      <th>1</th>\n",
              "      <td>Candace Kane's Candy Factory</td>\n",
              "      <td>DS</td>\n",
              "      <td>2008.0</td>\n",
              "      <td>Action</td>\n",
              "      <td>Destineer</td>\n",
              "      <td>0.04</td>\n",
              "      <td>0</td>\n",
              "      <td>0</td>\n",
              "      <td>0</td>\n",
              "    </tr>\n",
              "    <tr>\n",
              "      <th>2</th>\n",
              "      <td>The Munchables</td>\n",
              "      <td>Wii</td>\n",
              "      <td>2009.0</td>\n",
              "      <td>Action</td>\n",
              "      <td>Namco Bandai Games</td>\n",
              "      <td>0.17</td>\n",
              "      <td>0</td>\n",
              "      <td>0</td>\n",
              "      <td>0.01</td>\n",
              "    </tr>\n",
              "    <tr>\n",
              "      <th>3</th>\n",
              "      <td>Otome wa Oanesama Boku ni Koi Shiteru Portable</td>\n",
              "      <td>PSP</td>\n",
              "      <td>2010.0</td>\n",
              "      <td>Adventure</td>\n",
              "      <td>Alchemist</td>\n",
              "      <td>0</td>\n",
              "      <td>0</td>\n",
              "      <td>0.02</td>\n",
              "      <td>0</td>\n",
              "    </tr>\n",
              "    <tr>\n",
              "      <th>4</th>\n",
              "      <td>Deal or No Deal: Special Edition</td>\n",
              "      <td>DS</td>\n",
              "      <td>2010.0</td>\n",
              "      <td>Misc</td>\n",
              "      <td>Zoo Games</td>\n",
              "      <td>0.04</td>\n",
              "      <td>0</td>\n",
              "      <td>0</td>\n",
              "      <td>0</td>\n",
              "    </tr>\n",
              "    <tr>\n",
              "      <th>5</th>\n",
              "      <td>Ben 10 Ultimate Alien: Cosmic Destruction</td>\n",
              "      <td>PS3</td>\n",
              "      <td>2010.0</td>\n",
              "      <td>Platform</td>\n",
              "      <td>D3Publisher</td>\n",
              "      <td>0.12</td>\n",
              "      <td>0.09</td>\n",
              "      <td>0</td>\n",
              "      <td>0.04</td>\n",
              "    </tr>\n",
              "  </tbody>\n",
              "</table>\n",
              "</div>"
            ],
            "text/plain": [
              "                                                      Name  ... Other_Sales\n",
              "Unnamed: 0                                                  ...            \n",
              "1                             Candace Kane's Candy Factory  ...           0\n",
              "2                                           The Munchables  ...        0.01\n",
              "3           Otome wa Oanesama Boku ni Koi Shiteru Portable  ...           0\n",
              "4                         Deal or No Deal: Special Edition  ...           0\n",
              "5                Ben 10 Ultimate Alien: Cosmic Destruction  ...        0.04\n",
              "\n",
              "[5 rows x 9 columns]"
            ]
          },
          "metadata": {
            "tags": []
          },
          "execution_count": 149
        }
      ]
    },
    {
      "cell_type": "markdown",
      "metadata": {
        "id": "xdSqCUV1eH22"
      },
      "source": [
        "\n",
        "우선 칼럼 명을 기준으로 데이터를 개략적으로 살펴보면,\n",
        "\n",
        "**\"게임명, 출시플랫폼, 출시년도, 장르, 퍼블리셔, 그리고 주요 지역별 판매량\"**에 대한 데이터가 있습니다.\n",
        "\n",
        "다만 데이터 일부에 통일되지 않은 형식이 있어, EDA를 먼저 진행하도록 하겠습니다.\n"
      ]
    },
    {
      "cell_type": "code",
      "metadata": {
        "colab": {
          "base_uri": "https://localhost:8080/",
          "height": 195
        },
        "id": "WgOfDDCgigrx",
        "outputId": "b802ba21-7cd9-45f3-f7cd-b9f2134178ff"
      },
      "source": [
        "# 출시년도 데이터 형식 통일\n",
        "# print(df.groupby('Year').count())\n",
        "# float를 int 형식으로 통일\n",
        "df['Year'] = df['Year'].astype(int)\n",
        "\n",
        "# 97, 11 등 년도의 앞 두 자리가 빠진 데이터 형식을 바꿔주는 함수 생성\n",
        "def year_correct(x):\n",
        "    if x <= 21 :\n",
        "        return x + 2000\n",
        "    if x <= 99 :\n",
        "        return x + 1900\n",
        "    return x\n",
        "\n",
        "# 함수를 Year열에 적용\n",
        "df['Year'] = df['Year'].apply(year_correct)\n",
        "\n",
        "# 판매량 데이터 형식 통일 (1백만 단위로)\n",
        "\n",
        "# K,M으로 표기된 데이터를 통일된 형식으로 변환하여 각 열에 적용\n",
        "df['NA_Sales'] = df['NA_Sales'].replace({'K': '*0.001', 'M': '*1'}, regex=True).map(pd.eval).astype(float)\n",
        "df['EU_Sales'] = df['EU_Sales'].replace({'K': '*0.001', 'M': '*1'}, regex=True).map(pd.eval).astype(float)\n",
        "df['JP_Sales'] = df['JP_Sales'].replace({'K': '*0.001', 'M': '*1'}, regex=True).map(pd.eval).astype(float)\n",
        "df['Other_Sales'] = df['Other_Sales'].replace({'K': '*0.001', 'M': '*1'}, regex=True).map(pd.eval).astype(float)\n",
        "df = df.reset_index()\n",
        "df = df.drop(['Unnamed: 0'], axis=1)"
      ],
      "execution_count": 150,
      "outputs": [
        {
          "output_type": "execute_result",
          "data": {
            "text/html": [
              "<div>\n",
              "<style scoped>\n",
              "    .dataframe tbody tr th:only-of-type {\n",
              "        vertical-align: middle;\n",
              "    }\n",
              "\n",
              "    .dataframe tbody tr th {\n",
              "        vertical-align: top;\n",
              "    }\n",
              "\n",
              "    .dataframe thead th {\n",
              "        text-align: right;\n",
              "    }\n",
              "</style>\n",
              "<table border=\"1\" class=\"dataframe\">\n",
              "  <thead>\n",
              "    <tr style=\"text-align: right;\">\n",
              "      <th></th>\n",
              "      <th>Name</th>\n",
              "      <th>Platform</th>\n",
              "      <th>Year</th>\n",
              "      <th>Genre</th>\n",
              "      <th>Publisher</th>\n",
              "      <th>NA_Sales</th>\n",
              "      <th>EU_Sales</th>\n",
              "      <th>JP_Sales</th>\n",
              "      <th>Other_Sales</th>\n",
              "    </tr>\n",
              "  </thead>\n",
              "  <tbody>\n",
              "    <tr>\n",
              "      <th>0</th>\n",
              "      <td>Candace Kane's Candy Factory</td>\n",
              "      <td>DS</td>\n",
              "      <td>2008</td>\n",
              "      <td>Action</td>\n",
              "      <td>Destineer</td>\n",
              "      <td>0.04</td>\n",
              "      <td>0.00</td>\n",
              "      <td>0.00</td>\n",
              "      <td>0.00</td>\n",
              "    </tr>\n",
              "    <tr>\n",
              "      <th>1</th>\n",
              "      <td>The Munchables</td>\n",
              "      <td>Wii</td>\n",
              "      <td>2009</td>\n",
              "      <td>Action</td>\n",
              "      <td>Namco Bandai Games</td>\n",
              "      <td>0.17</td>\n",
              "      <td>0.00</td>\n",
              "      <td>0.00</td>\n",
              "      <td>0.01</td>\n",
              "    </tr>\n",
              "    <tr>\n",
              "      <th>2</th>\n",
              "      <td>Otome wa Oanesama Boku ni Koi Shiteru Portable</td>\n",
              "      <td>PSP</td>\n",
              "      <td>2010</td>\n",
              "      <td>Adventure</td>\n",
              "      <td>Alchemist</td>\n",
              "      <td>0.00</td>\n",
              "      <td>0.00</td>\n",
              "      <td>0.02</td>\n",
              "      <td>0.00</td>\n",
              "    </tr>\n",
              "    <tr>\n",
              "      <th>3</th>\n",
              "      <td>Deal or No Deal: Special Edition</td>\n",
              "      <td>DS</td>\n",
              "      <td>2010</td>\n",
              "      <td>Misc</td>\n",
              "      <td>Zoo Games</td>\n",
              "      <td>0.04</td>\n",
              "      <td>0.00</td>\n",
              "      <td>0.00</td>\n",
              "      <td>0.00</td>\n",
              "    </tr>\n",
              "    <tr>\n",
              "      <th>4</th>\n",
              "      <td>Ben 10 Ultimate Alien: Cosmic Destruction</td>\n",
              "      <td>PS3</td>\n",
              "      <td>2010</td>\n",
              "      <td>Platform</td>\n",
              "      <td>D3Publisher</td>\n",
              "      <td>0.12</td>\n",
              "      <td>0.09</td>\n",
              "      <td>0.00</td>\n",
              "      <td>0.04</td>\n",
              "    </tr>\n",
              "  </tbody>\n",
              "</table>\n",
              "</div>"
            ],
            "text/plain": [
              "                                             Name  ... Other_Sales\n",
              "0                    Candace Kane's Candy Factory  ...        0.00\n",
              "1                                  The Munchables  ...        0.01\n",
              "2  Otome wa Oanesama Boku ni Koi Shiteru Portable  ...        0.00\n",
              "3                Deal or No Deal: Special Edition  ...        0.00\n",
              "4       Ben 10 Ultimate Alien: Cosmic Destruction  ...        0.04\n",
              "\n",
              "[5 rows x 9 columns]"
            ]
          },
          "metadata": {
            "tags": []
          },
          "execution_count": 150
        }
      ]
    },
    {
      "cell_type": "code",
      "metadata": {
        "colab": {
          "base_uri": "https://localhost:8080/",
          "height": 260
        },
        "id": "7-HA_uW6EwYP",
        "outputId": "83a5d3bc-3f38-4152-c263-a5e60e4a9385"
      },
      "source": [
        "# 연도별 데이터 수량 파악\n",
        "df_count_year = df.groupby(['Year'])['NA_Sales', 'EU_Sales', 'JP_Sales', 'Other_Sales'].count()\n",
        "df_count_year.tail()"
      ],
      "execution_count": 151,
      "outputs": [
        {
          "output_type": "stream",
          "text": [
            "/usr/local/lib/python3.7/dist-packages/ipykernel_launcher.py:1: FutureWarning: Indexing with multiple keys (implicitly converted to a tuple of keys) will be deprecated, use a list instead.\n",
            "  \"\"\"Entry point for launching an IPython kernel.\n"
          ],
          "name": "stderr"
        },
        {
          "output_type": "execute_result",
          "data": {
            "text/html": [
              "<div>\n",
              "<style scoped>\n",
              "    .dataframe tbody tr th:only-of-type {\n",
              "        vertical-align: middle;\n",
              "    }\n",
              "\n",
              "    .dataframe tbody tr th {\n",
              "        vertical-align: top;\n",
              "    }\n",
              "\n",
              "    .dataframe thead th {\n",
              "        text-align: right;\n",
              "    }\n",
              "</style>\n",
              "<table border=\"1\" class=\"dataframe\">\n",
              "  <thead>\n",
              "    <tr style=\"text-align: right;\">\n",
              "      <th></th>\n",
              "      <th>NA_Sales</th>\n",
              "      <th>EU_Sales</th>\n",
              "      <th>JP_Sales</th>\n",
              "      <th>Other_Sales</th>\n",
              "    </tr>\n",
              "    <tr>\n",
              "      <th>Year</th>\n",
              "      <th></th>\n",
              "      <th></th>\n",
              "      <th></th>\n",
              "      <th></th>\n",
              "    </tr>\n",
              "  </thead>\n",
              "  <tbody>\n",
              "    <tr>\n",
              "      <th>2014</th>\n",
              "      <td>580</td>\n",
              "      <td>580</td>\n",
              "      <td>580</td>\n",
              "      <td>580</td>\n",
              "    </tr>\n",
              "    <tr>\n",
              "      <th>2015</th>\n",
              "      <td>611</td>\n",
              "      <td>611</td>\n",
              "      <td>611</td>\n",
              "      <td>611</td>\n",
              "    </tr>\n",
              "    <tr>\n",
              "      <th>2016</th>\n",
              "      <td>342</td>\n",
              "      <td>342</td>\n",
              "      <td>342</td>\n",
              "      <td>342</td>\n",
              "    </tr>\n",
              "    <tr>\n",
              "      <th>2017</th>\n",
              "      <td>3</td>\n",
              "      <td>3</td>\n",
              "      <td>3</td>\n",
              "      <td>3</td>\n",
              "    </tr>\n",
              "    <tr>\n",
              "      <th>2020</th>\n",
              "      <td>1</td>\n",
              "      <td>1</td>\n",
              "      <td>1</td>\n",
              "      <td>1</td>\n",
              "    </tr>\n",
              "  </tbody>\n",
              "</table>\n",
              "</div>"
            ],
            "text/plain": [
              "      NA_Sales  EU_Sales  JP_Sales  Other_Sales\n",
              "Year                                           \n",
              "2014       580       580       580          580\n",
              "2015       611       611       611          611\n",
              "2016       342       342       342          342\n",
              "2017         3         3         3            3\n",
              "2020         1         1         1            1"
            ]
          },
          "metadata": {
            "tags": []
          },
          "execution_count": 151
        }
      ]
    },
    {
      "cell_type": "markdown",
      "metadata": {
        "id": "3VfbljFD-A1o"
      },
      "source": [
        "\n",
        "게임 시장 특성상 유행이 빠르게 바뀌기 때문에 이미 20년이 지난 2000년 이전의 데이터는 다루지 않도록 하겠습니다.\n",
        "\n",
        "또한 2017년부터는 상대적으로 수집한 데이터의 양이 미미하기 때문에 오류를 방지하기 위해 분석에서 제외했습니다.\n",
        "\n",
        "따라서 본 보고서에서는 2000년 ~ 2016년 까지의 데이터만을 사용하도록 하겠습니다."
      ]
    },
    {
      "cell_type": "code",
      "metadata": {
        "colab": {
          "base_uri": "https://localhost:8080/",
          "height": 195
        },
        "id": "4Iyazb9WgU54",
        "outputId": "43fe3e28-668b-470c-9441-4f1776a81228"
      },
      "source": [
        "df.head()"
      ],
      "execution_count": 152,
      "outputs": [
        {
          "output_type": "execute_result",
          "data": {
            "text/html": [
              "<div>\n",
              "<style scoped>\n",
              "    .dataframe tbody tr th:only-of-type {\n",
              "        vertical-align: middle;\n",
              "    }\n",
              "\n",
              "    .dataframe tbody tr th {\n",
              "        vertical-align: top;\n",
              "    }\n",
              "\n",
              "    .dataframe thead th {\n",
              "        text-align: right;\n",
              "    }\n",
              "</style>\n",
              "<table border=\"1\" class=\"dataframe\">\n",
              "  <thead>\n",
              "    <tr style=\"text-align: right;\">\n",
              "      <th></th>\n",
              "      <th>Name</th>\n",
              "      <th>Platform</th>\n",
              "      <th>Year</th>\n",
              "      <th>Genre</th>\n",
              "      <th>Publisher</th>\n",
              "      <th>NA_Sales</th>\n",
              "      <th>EU_Sales</th>\n",
              "      <th>JP_Sales</th>\n",
              "      <th>Other_Sales</th>\n",
              "    </tr>\n",
              "  </thead>\n",
              "  <tbody>\n",
              "    <tr>\n",
              "      <th>0</th>\n",
              "      <td>Candace Kane's Candy Factory</td>\n",
              "      <td>DS</td>\n",
              "      <td>2008</td>\n",
              "      <td>Action</td>\n",
              "      <td>Destineer</td>\n",
              "      <td>0.04</td>\n",
              "      <td>0.00</td>\n",
              "      <td>0.00</td>\n",
              "      <td>0.00</td>\n",
              "    </tr>\n",
              "    <tr>\n",
              "      <th>1</th>\n",
              "      <td>The Munchables</td>\n",
              "      <td>Wii</td>\n",
              "      <td>2009</td>\n",
              "      <td>Action</td>\n",
              "      <td>Namco Bandai Games</td>\n",
              "      <td>0.17</td>\n",
              "      <td>0.00</td>\n",
              "      <td>0.00</td>\n",
              "      <td>0.01</td>\n",
              "    </tr>\n",
              "    <tr>\n",
              "      <th>2</th>\n",
              "      <td>Otome wa Oanesama Boku ni Koi Shiteru Portable</td>\n",
              "      <td>PSP</td>\n",
              "      <td>2010</td>\n",
              "      <td>Adventure</td>\n",
              "      <td>Alchemist</td>\n",
              "      <td>0.00</td>\n",
              "      <td>0.00</td>\n",
              "      <td>0.02</td>\n",
              "      <td>0.00</td>\n",
              "    </tr>\n",
              "    <tr>\n",
              "      <th>3</th>\n",
              "      <td>Deal or No Deal: Special Edition</td>\n",
              "      <td>DS</td>\n",
              "      <td>2010</td>\n",
              "      <td>Misc</td>\n",
              "      <td>Zoo Games</td>\n",
              "      <td>0.04</td>\n",
              "      <td>0.00</td>\n",
              "      <td>0.00</td>\n",
              "      <td>0.00</td>\n",
              "    </tr>\n",
              "    <tr>\n",
              "      <th>4</th>\n",
              "      <td>Ben 10 Ultimate Alien: Cosmic Destruction</td>\n",
              "      <td>PS3</td>\n",
              "      <td>2010</td>\n",
              "      <td>Platform</td>\n",
              "      <td>D3Publisher</td>\n",
              "      <td>0.12</td>\n",
              "      <td>0.09</td>\n",
              "      <td>0.00</td>\n",
              "      <td>0.04</td>\n",
              "    </tr>\n",
              "  </tbody>\n",
              "</table>\n",
              "</div>"
            ],
            "text/plain": [
              "                                             Name  ... Other_Sales\n",
              "0                    Candace Kane's Candy Factory  ...        0.00\n",
              "1                                  The Munchables  ...        0.01\n",
              "2  Otome wa Oanesama Boku ni Koi Shiteru Portable  ...        0.00\n",
              "3                Deal or No Deal: Special Edition  ...        0.00\n",
              "4       Ben 10 Ultimate Alien: Cosmic Destruction  ...        0.04\n",
              "\n",
              "[5 rows x 9 columns]"
            ]
          },
          "metadata": {
            "tags": []
          },
          "execution_count": 152
        }
      ]
    },
    {
      "cell_type": "markdown",
      "metadata": {
        "id": "RTdCPAMgfKLG"
      },
      "source": [
        "\n",
        "EDA를 마친 데이터를 바탕으로 분석을 진행하겠습니다.\n",
        "\n",
        "주어진 데이터 중 자사에서 게임을 출시할 때 통제 가능한 변수는 Platform과 Genre입니다.\n",
        "\n",
        "따라서 플랫폼과 장르에 대한 연도별 판매량에 대한 분석을 바탕으로 진행하겠습니다.\n"
      ]
    },
    {
      "cell_type": "code",
      "metadata": {
        "colab": {
          "base_uri": "https://localhost:8080/",
          "height": 615
        },
        "id": "NHXRly2KW_Xr",
        "outputId": "fc624752-9a3f-4ae9-db40-c38cbbc3b59b"
      },
      "source": [
        "# 플랫폼 별 연간 판매량 구하기\n",
        "\n",
        "from matplotlib import pyplot\n",
        "import numpy as np\n",
        "\n",
        "# 플랫폼 별 판매량 합계를 보여주는 데이터프레임 생성\n",
        "\n",
        "df_plat = df.groupby(['Year','Platform'])['NA_Sales', 'EU_Sales', 'JP_Sales', 'Other_Sales'].sum()\n",
        "df_plat['total'] = df_plat.apply(lambda row: sum([row['NA_Sales'], row['EU_Sales'], row['JP_Sales'], row['Other_Sales']]), axis=1)\n",
        "df_plat = df_plat.drop(['NA_Sales', 'EU_Sales', 'JP_Sales', 'Other_Sales'], axis=1)\n",
        "df_plat = df_plat.reset_index()\n",
        "\n",
        "# 2000년 ~ 2016년 데이터만 남기기\n",
        "idx1 = df_plat[(df_plat['Year'] < 2000) | (df_plat['Year'] > 2016)].index\n",
        "df_plat = df_plat.drop(idx1)\n",
        "\n",
        "# 총 판매량이 100이 안되는 마이너한 플랫폼 모두 제외\n",
        "df_plat_minor = df_plat.groupby(['Platform']).sum()\n",
        "df_plat_minor = df_plat_minor.sort_values(by='total', axis=0, ascending=False)\n",
        "df_plat_minor = pd.DataFrame(df_plat_minor.iloc[:, 1])\n",
        "df_plat_minor = df_plat_minor[df_plat_minor['total']<100].index.tolist()\n",
        "idx2 = df_plat[df_plat['Platform'].isin(df_plat_minor)].index\n",
        "df_plat = df_plat.drop(idx2)\n",
        "df_plat\n",
        "\n",
        "# 피벗으로 데이터 형태 변환\n",
        "\n",
        "df_plat = df_plat.pivot(index='Year', columns='Platform', values='total')\n",
        "df_plat = df_plat.fillna(0)\n",
        "df_plat"
      ],
      "execution_count": 161,
      "outputs": [
        {
          "output_type": "stream",
          "text": [
            "/usr/local/lib/python3.7/dist-packages/ipykernel_launcher.py:8: FutureWarning: Indexing with multiple keys (implicitly converted to a tuple of keys) will be deprecated, use a list instead.\n",
            "  \n"
          ],
          "name": "stderr"
        },
        {
          "output_type": "execute_result",
          "data": {
            "text/html": [
              "<div>\n",
              "<style scoped>\n",
              "    .dataframe tbody tr th:only-of-type {\n",
              "        vertical-align: middle;\n",
              "    }\n",
              "\n",
              "    .dataframe tbody tr th {\n",
              "        vertical-align: top;\n",
              "    }\n",
              "\n",
              "    .dataframe thead th {\n",
              "        text-align: right;\n",
              "    }\n",
              "</style>\n",
              "<table border=\"1\" class=\"dataframe\">\n",
              "  <thead>\n",
              "    <tr style=\"text-align: right;\">\n",
              "      <th>Platform</th>\n",
              "      <th>3DS</th>\n",
              "      <th>DS</th>\n",
              "      <th>GBA</th>\n",
              "      <th>GC</th>\n",
              "      <th>PC</th>\n",
              "      <th>PS</th>\n",
              "      <th>PS2</th>\n",
              "      <th>PS3</th>\n",
              "      <th>PS4</th>\n",
              "      <th>PSP</th>\n",
              "      <th>Wii</th>\n",
              "      <th>X360</th>\n",
              "      <th>XB</th>\n",
              "      <th>XOne</th>\n",
              "    </tr>\n",
              "    <tr>\n",
              "      <th>Year</th>\n",
              "      <th></th>\n",
              "      <th></th>\n",
              "      <th></th>\n",
              "      <th></th>\n",
              "      <th></th>\n",
              "      <th></th>\n",
              "      <th></th>\n",
              "      <th></th>\n",
              "      <th></th>\n",
              "      <th></th>\n",
              "      <th></th>\n",
              "      <th></th>\n",
              "      <th></th>\n",
              "      <th></th>\n",
              "    </tr>\n",
              "  </thead>\n",
              "  <tbody>\n",
              "    <tr>\n",
              "      <th>2000</th>\n",
              "      <td>0.00</td>\n",
              "      <td>0.00</td>\n",
              "      <td>0.07</td>\n",
              "      <td>0.00</td>\n",
              "      <td>4.65</td>\n",
              "      <td>96.35</td>\n",
              "      <td>39.17</td>\n",
              "      <td>0.00</td>\n",
              "      <td>0.00</td>\n",
              "      <td>0.00</td>\n",
              "      <td>0.00</td>\n",
              "      <td>0.00</td>\n",
              "      <td>0.99</td>\n",
              "      <td>0.00</td>\n",
              "    </tr>\n",
              "    <tr>\n",
              "      <th>2001</th>\n",
              "      <td>0.00</td>\n",
              "      <td>0.00</td>\n",
              "      <td>61.35</td>\n",
              "      <td>26.34</td>\n",
              "      <td>5.50</td>\n",
              "      <td>35.59</td>\n",
              "      <td>163.73</td>\n",
              "      <td>0.00</td>\n",
              "      <td>0.00</td>\n",
              "      <td>0.00</td>\n",
              "      <td>0.00</td>\n",
              "      <td>0.00</td>\n",
              "      <td>22.26</td>\n",
              "      <td>0.00</td>\n",
              "    </tr>\n",
              "    <tr>\n",
              "      <th>2002</th>\n",
              "      <td>0.00</td>\n",
              "      <td>0.00</td>\n",
              "      <td>74.11</td>\n",
              "      <td>51.81</td>\n",
              "      <td>8.57</td>\n",
              "      <td>6.65</td>\n",
              "      <td>205.38</td>\n",
              "      <td>0.00</td>\n",
              "      <td>0.00</td>\n",
              "      <td>0.00</td>\n",
              "      <td>0.00</td>\n",
              "      <td>0.00</td>\n",
              "      <td>47.18</td>\n",
              "      <td>0.00</td>\n",
              "    </tr>\n",
              "    <tr>\n",
              "      <th>2003</th>\n",
              "      <td>0.00</td>\n",
              "      <td>0.00</td>\n",
              "      <td>56.67</td>\n",
              "      <td>49.90</td>\n",
              "      <td>8.91</td>\n",
              "      <td>2.07</td>\n",
              "      <td>184.31</td>\n",
              "      <td>0.00</td>\n",
              "      <td>0.00</td>\n",
              "      <td>0.00</td>\n",
              "      <td>0.00</td>\n",
              "      <td>0.00</td>\n",
              "      <td>55.04</td>\n",
              "      <td>0.00</td>\n",
              "    </tr>\n",
              "    <tr>\n",
              "      <th>2004</th>\n",
              "      <td>0.00</td>\n",
              "      <td>17.41</td>\n",
              "      <td>72.67</td>\n",
              "      <td>28.82</td>\n",
              "      <td>10.39</td>\n",
              "      <td>0.00</td>\n",
              "      <td>210.47</td>\n",
              "      <td>0.00</td>\n",
              "      <td>0.00</td>\n",
              "      <td>7.09</td>\n",
              "      <td>0.00</td>\n",
              "      <td>0.00</td>\n",
              "      <td>61.98</td>\n",
              "      <td>0.00</td>\n",
              "    </tr>\n",
              "    <tr>\n",
              "      <th>2005</th>\n",
              "      <td>0.00</td>\n",
              "      <td>131.15</td>\n",
              "      <td>32.42</td>\n",
              "      <td>27.62</td>\n",
              "      <td>4.40</td>\n",
              "      <td>0.00</td>\n",
              "      <td>160.66</td>\n",
              "      <td>0.00</td>\n",
              "      <td>0.00</td>\n",
              "      <td>43.48</td>\n",
              "      <td>0.00</td>\n",
              "      <td>8.31</td>\n",
              "      <td>49.08</td>\n",
              "      <td>0.00</td>\n",
              "    </tr>\n",
              "    <tr>\n",
              "      <th>2006</th>\n",
              "      <td>0.00</td>\n",
              "      <td>121.00</td>\n",
              "      <td>5.28</td>\n",
              "      <td>11.26</td>\n",
              "      <td>2.91</td>\n",
              "      <td>0.00</td>\n",
              "      <td>97.47</td>\n",
              "      <td>21.06</td>\n",
              "      <td>0.00</td>\n",
              "      <td>55.69</td>\n",
              "      <td>137.85</td>\n",
              "      <td>51.94</td>\n",
              "      <td>10.04</td>\n",
              "      <td>0.00</td>\n",
              "    </tr>\n",
              "    <tr>\n",
              "      <th>2007</th>\n",
              "      <td>0.00</td>\n",
              "      <td>149.02</td>\n",
              "      <td>2.19</td>\n",
              "      <td>0.27</td>\n",
              "      <td>9.33</td>\n",
              "      <td>0.00</td>\n",
              "      <td>75.99</td>\n",
              "      <td>73.57</td>\n",
              "      <td>0.00</td>\n",
              "      <td>47.41</td>\n",
              "      <td>154.60</td>\n",
              "      <td>95.65</td>\n",
              "      <td>0.55</td>\n",
              "      <td>0.00</td>\n",
              "    </tr>\n",
              "    <tr>\n",
              "      <th>2008</th>\n",
              "      <td>0.00</td>\n",
              "      <td>147.12</td>\n",
              "      <td>0.00</td>\n",
              "      <td>0.00</td>\n",
              "      <td>11.65</td>\n",
              "      <td>0.00</td>\n",
              "      <td>53.29</td>\n",
              "      <td>119.80</td>\n",
              "      <td>0.00</td>\n",
              "      <td>34.69</td>\n",
              "      <td>173.98</td>\n",
              "      <td>135.66</td>\n",
              "      <td>0.18</td>\n",
              "      <td>0.00</td>\n",
              "    </tr>\n",
              "    <tr>\n",
              "      <th>2009</th>\n",
              "      <td>0.00</td>\n",
              "      <td>121.87</td>\n",
              "      <td>0.00</td>\n",
              "      <td>0.00</td>\n",
              "      <td>17.13</td>\n",
              "      <td>0.00</td>\n",
              "      <td>26.40</td>\n",
              "      <td>131.12</td>\n",
              "      <td>0.00</td>\n",
              "      <td>38.17</td>\n",
              "      <td>210.26</td>\n",
              "      <td>120.89</td>\n",
              "      <td>0.00</td>\n",
              "      <td>0.00</td>\n",
              "    </tr>\n",
              "    <tr>\n",
              "      <th>2010</th>\n",
              "      <td>0.00</td>\n",
              "      <td>88.02</td>\n",
              "      <td>0.00</td>\n",
              "      <td>0.00</td>\n",
              "      <td>24.22</td>\n",
              "      <td>0.00</td>\n",
              "      <td>5.12</td>\n",
              "      <td>144.38</td>\n",
              "      <td>0.00</td>\n",
              "      <td>35.17</td>\n",
              "      <td>123.29</td>\n",
              "      <td>170.95</td>\n",
              "      <td>0.00</td>\n",
              "      <td>0.00</td>\n",
              "    </tr>\n",
              "    <tr>\n",
              "      <th>2011</th>\n",
              "      <td>62.58</td>\n",
              "      <td>27.76</td>\n",
              "      <td>0.00</td>\n",
              "      <td>0.00</td>\n",
              "      <td>35.00</td>\n",
              "      <td>0.00</td>\n",
              "      <td>0.45</td>\n",
              "      <td>159.37</td>\n",
              "      <td>0.00</td>\n",
              "      <td>17.93</td>\n",
              "      <td>62.02</td>\n",
              "      <td>144.54</td>\n",
              "      <td>0.00</td>\n",
              "      <td>0.00</td>\n",
              "    </tr>\n",
              "    <tr>\n",
              "      <th>2012</th>\n",
              "      <td>51.10</td>\n",
              "      <td>11.55</td>\n",
              "      <td>0.00</td>\n",
              "      <td>0.00</td>\n",
              "      <td>23.50</td>\n",
              "      <td>0.00</td>\n",
              "      <td>0.00</td>\n",
              "      <td>108.32</td>\n",
              "      <td>0.00</td>\n",
              "      <td>7.66</td>\n",
              "      <td>22.78</td>\n",
              "      <td>100.82</td>\n",
              "      <td>0.00</td>\n",
              "      <td>0.00</td>\n",
              "    </tr>\n",
              "    <tr>\n",
              "      <th>2013</th>\n",
              "      <td>41.51</td>\n",
              "      <td>1.96</td>\n",
              "      <td>0.00</td>\n",
              "      <td>0.00</td>\n",
              "      <td>12.80</td>\n",
              "      <td>0.00</td>\n",
              "      <td>0.00</td>\n",
              "      <td>117.42</td>\n",
              "      <td>24.76</td>\n",
              "      <td>3.19</td>\n",
              "      <td>9.38</td>\n",
              "      <td>89.56</td>\n",
              "      <td>0.00</td>\n",
              "      <td>18.61</td>\n",
              "    </tr>\n",
              "    <tr>\n",
              "      <th>2014</th>\n",
              "      <td>43.11</td>\n",
              "      <td>0.02</td>\n",
              "      <td>0.00</td>\n",
              "      <td>0.00</td>\n",
              "      <td>13.33</td>\n",
              "      <td>0.00</td>\n",
              "      <td>0.00</td>\n",
              "      <td>50.97</td>\n",
              "      <td>98.83</td>\n",
              "      <td>0.24</td>\n",
              "      <td>4.43</td>\n",
              "      <td>36.42</td>\n",
              "      <td>0.00</td>\n",
              "      <td>52.44</td>\n",
              "    </tr>\n",
              "    <tr>\n",
              "      <th>2015</th>\n",
              "      <td>26.97</td>\n",
              "      <td>0.00</td>\n",
              "      <td>0.00</td>\n",
              "      <td>0.00</td>\n",
              "      <td>8.03</td>\n",
              "      <td>0.00</td>\n",
              "      <td>0.00</td>\n",
              "      <td>18.18</td>\n",
              "      <td>112.86</td>\n",
              "      <td>0.12</td>\n",
              "      <td>1.56</td>\n",
              "      <td>13.02</td>\n",
              "      <td>0.00</td>\n",
              "      <td>57.65</td>\n",
              "    </tr>\n",
              "    <tr>\n",
              "      <th>2016</th>\n",
              "      <td>6.55</td>\n",
              "      <td>0.00</td>\n",
              "      <td>0.00</td>\n",
              "      <td>0.00</td>\n",
              "      <td>2.60</td>\n",
              "      <td>0.00</td>\n",
              "      <td>0.00</td>\n",
              "      <td>2.55</td>\n",
              "      <td>39.30</td>\n",
              "      <td>0.00</td>\n",
              "      <td>0.00</td>\n",
              "      <td>0.83</td>\n",
              "      <td>0.00</td>\n",
              "      <td>12.38</td>\n",
              "    </tr>\n",
              "  </tbody>\n",
              "</table>\n",
              "</div>"
            ],
            "text/plain": [
              "Platform    3DS      DS    GBA     GC  ...     Wii    X360     XB   XOne\n",
              "Year                                   ...                              \n",
              "2000       0.00    0.00   0.07   0.00  ...    0.00    0.00   0.99   0.00\n",
              "2001       0.00    0.00  61.35  26.34  ...    0.00    0.00  22.26   0.00\n",
              "2002       0.00    0.00  74.11  51.81  ...    0.00    0.00  47.18   0.00\n",
              "2003       0.00    0.00  56.67  49.90  ...    0.00    0.00  55.04   0.00\n",
              "2004       0.00   17.41  72.67  28.82  ...    0.00    0.00  61.98   0.00\n",
              "2005       0.00  131.15  32.42  27.62  ...    0.00    8.31  49.08   0.00\n",
              "2006       0.00  121.00   5.28  11.26  ...  137.85   51.94  10.04   0.00\n",
              "2007       0.00  149.02   2.19   0.27  ...  154.60   95.65   0.55   0.00\n",
              "2008       0.00  147.12   0.00   0.00  ...  173.98  135.66   0.18   0.00\n",
              "2009       0.00  121.87   0.00   0.00  ...  210.26  120.89   0.00   0.00\n",
              "2010       0.00   88.02   0.00   0.00  ...  123.29  170.95   0.00   0.00\n",
              "2011      62.58   27.76   0.00   0.00  ...   62.02  144.54   0.00   0.00\n",
              "2012      51.10   11.55   0.00   0.00  ...   22.78  100.82   0.00   0.00\n",
              "2013      41.51    1.96   0.00   0.00  ...    9.38   89.56   0.00  18.61\n",
              "2014      43.11    0.02   0.00   0.00  ...    4.43   36.42   0.00  52.44\n",
              "2015      26.97    0.00   0.00   0.00  ...    1.56   13.02   0.00  57.65\n",
              "2016       6.55    0.00   0.00   0.00  ...    0.00    0.83   0.00  12.38\n",
              "\n",
              "[17 rows x 14 columns]"
            ]
          },
          "metadata": {
            "tags": []
          },
          "execution_count": 161
        }
      ]
    },
    {
      "cell_type": "code",
      "metadata": {
        "colab": {
          "base_uri": "https://localhost:8080/",
          "height": 554
        },
        "id": "zpZtQalzjvFT",
        "outputId": "6aab66c5-9516-4b4c-a1cb-cfccd1491a3e"
      },
      "source": [
        "# 100% 기준의 누적 막대그래프 생성\n",
        "\n",
        "df_plat['total'] = df_plat.apply(lambda row: \n",
        "                                 sum([row['3DS'], row['DS'], row['GBA'], row['GC'], row['PC'], row['PS'], row['PS2'], row['PS3'],\n",
        "                                      row['PS4'], row['PSP'], row['Wii'], row['X360'], row['XB'], row['XOne']]), axis=1)\n",
        "df_plat['3DS'] = df_plat['3DS'] / df_plat['total'] * 100\n",
        "df_plat['DS'] = df_plat['DS'] / df_plat['total'] * 100\n",
        "df_plat['GBA'] = df_plat['GBA'] / df_plat['total'] * 100\n",
        "df_plat['GC'] = df_plat['GC'] / df_plat['total'] * 100\n",
        "df_plat['PC'] = df_plat['PC'] / df_plat['total'] * 100\n",
        "df_plat['PS'] = df_plat['PS'] / df_plat['total'] * 100\n",
        "df_plat['PS2'] = df_plat['PS2'] / df_plat['total'] * 100\n",
        "df_plat['PS3'] = df_plat['PS3'] / df_plat['total'] * 100\n",
        "df_plat['PS4'] = df_plat['PS4'] / df_plat['total'] * 100\n",
        "df_plat['PSP'] = df_plat['PSP'] / df_plat['total'] * 100\n",
        "df_plat['Wii'] = df_plat['Wii'] / df_plat['total'] * 100\n",
        "df_plat['X360'] = df_plat['X360'] / df_plat['total'] * 100\n",
        "df_plat['XB'] = df_plat['XB'] / df_plat['total'] * 100\n",
        "df_plat['XOne'] = df_plat['XOne'] / df_plat['total'] * 100\n",
        "\n",
        "df_plat = df_plat.drop(['total'], axis=1)\n",
        "df_plat\n",
        "\n",
        "pyplot.rcParams['figure.figsize'] = [20, 8]\n",
        "\n",
        "x = df_plat.index.values\n",
        "\n",
        "df_plat.plot.bar(stacked=True, color=('#1f77b4', '#ff7f0e', '#2ca02c', '#d62728', '#9467bd', '#8c564b', '#e377c2', '#7f7f7f', '#bcbd22', '#17becf', 'black', 'blue', 'greenyellow', 'gold'))\n",
        "\n",
        "pyplot.legend(loc='best', prop={'size': 15})\n",
        "pyplot.xlabel('Year', fontsize=12)\n",
        "pyplot.ylabel('Sales(Ratio)', fontsize=12)\n",
        "pyplot.title('Ratio of annual game sales by Platform', fontsize=20)"
      ],
      "execution_count": 168,
      "outputs": [
        {
          "output_type": "execute_result",
          "data": {
            "text/plain": [
              "Text(0.5, 1.0, 'Ratio of annual game sales by Platform')"
            ]
          },
          "metadata": {
            "tags": []
          },
          "execution_count": 168
        },
        {
          "output_type": "display_data",
          "data": {
            "image/png": "[encoded data removed]",
            "text/plain": [
              "<Figure size 1440x576 with 1 Axes>"
            ]
          },
          "metadata": {
            "tags": [],
            "needs_background": "light"
          }
        }
      ]
    },
    {
      "cell_type": "markdown",
      "metadata": {
        "id": "9RCbNFZEwCf7"
      },
      "source": [
        "\n",
        "우선 플랫폼 별 연간 판매량에 대한 데이터를 누적 비율 막대그래프로 나타냈습니다.\n",
        "\n",
        "2013년부터 2015년까지 3년동안 PS4와 Xbox One 그리고 3DS에 대한 점유율이 증가추세에 있습니다.\n",
        "\n",
        "또한 플랫폼 별로 한 번 감소하기 시작한 판매량은 다시 늘지 않고 지속적으로 감소하는 경향을 보여주고 있습니다.\n",
        "\n",
        "이를 바탕으로 **플랫폼 별 판매량은 기술 발전에 따른 불가역적인 트렌드로서**,\n",
        "\n",
        "**게임 선정에 있어 임의로 취사 선택하기 어려운 외부 요인**으로 보아야 합니다.\n",
        "\n",
        "따라서 점유율이 가장 높은 **PS4과 Xbox One 버전을  출시한 뒤에 3DS버전을 순차적으로 출시하는 일정**으로 진행하겠습니다.\n"
      ]
    },
    {
      "cell_type": "code",
      "metadata": {
        "colab": {
          "base_uri": "https://localhost:8080/",
          "height": 589
        },
        "id": "on1YmyVVNu9x",
        "outputId": "f6f100b3-75f5-4ba8-d089-74e3d2b81cf0"
      },
      "source": [
        "# 지역별 연간 총 판매량 그래프\n",
        "\n",
        "from matplotlib import pyplot\n",
        "import numpy as np\n",
        "\n",
        "# 지역별 판매량 합계를 보여주는 데이터프레임 생성\n",
        "df_region = df.groupby(['Year'])['NA_Sales', 'EU_Sales', 'JP_Sales', 'Other_Sales'].sum()\n",
        "df_region = df_region.iloc[20:37]\n",
        "\n",
        "# 지역별 연간 판매량을 보여주는 그래프 생성\n",
        "pyplot.rcParams['figure.figsize'] = [20, 8]\n",
        "\n",
        "x = df_region.index.values\n",
        "\n",
        "df_region.plot.bar(stacked=True, color=('#1f77b4', '#ff7f0e', '#2ca02c', '#d62728', '#9467bd', '#8c564b', '#e377c2', '#7f7f7f', '#bcbd22', '#17becf', 'black', 'blue', 'greenyellow', 'gold'))\n",
        "\n",
        "pyplot.legend(loc='best', prop={'size': 15})\n",
        "pyplot.xlabel('Year', fontsize=12)\n",
        "pyplot.ylabel('Sales(Total)', fontsize=12)\n",
        "pyplot.title('Total annual game sales by region', fontsize=20)"
      ],
      "execution_count": 181,
      "outputs": [
        {
          "output_type": "stream",
          "text": [
            "/usr/local/lib/python3.7/dist-packages/ipykernel_launcher.py:7: FutureWarning: Indexing with multiple keys (implicitly converted to a tuple of keys) will be deprecated, use a list instead.\n",
            "  import sys\n"
          ],
          "name": "stderr"
        },
        {
          "output_type": "execute_result",
          "data": {
            "text/plain": [
              "Text(0.5, 1.0, 'Total annual game sales by region')"
            ]
          },
          "metadata": {
            "tags": []
          },
          "execution_count": 181
        },
        {
          "output_type": "display_data",
          "data": {
            "image/png": "[encoded data removed]",
            "text/plain": [
              "<Figure size 1440x576 with 1 Axes>"
            ]
          },
          "metadata": {
            "tags": [],
            "needs_background": "light"
          }
        }
      ]
    },
    {
      "cell_type": "code",
      "metadata": {
        "colab": {
          "base_uri": "https://localhost:8080/",
          "height": 554
        },
        "id": "BYZRe6Lz_TZe",
        "outputId": "b61f0cf9-146d-4ef7-e063-b9fae5f003be"
      },
      "source": [
        "# 100% 기준의 누적 막대그래프 생성\n",
        "\n",
        "df_region['total'] = df_region.apply(lambda row: sum([row['NA_Sales'], row['EU_Sales'], row['JP_Sales'], row['Other_Sales']]), axis=1)\n",
        "df_region['NA_Sales'] = df_region['NA_Sales'] / df_region['total'] * 100\n",
        "df_region['EU_Sales'] = df_region['EU_Sales'] / df_region['total'] * 100\n",
        "df_region['JP_Sales'] = df_region['JP_Sales'] / df_region['total'] * 100\n",
        "df_region['Other_Sales'] = df_region['Other_Sales'] / df_region['total'] * 100\n",
        "df_region = df_region.drop(['total'], axis=1)\n",
        "\n",
        "pyplot.rcParams['figure.figsize'] = [20, 8]\n",
        "\n",
        "x = df_region.index.values\n",
        "\n",
        "df_region.plot.bar(stacked=True, color=('#1f77b4', '#ff7f0e', '#2ca02c', '#d62728', '#9467bd', '#8c564b', '#e377c2', '#7f7f7f', '#bcbd22', '#17becf', 'black', 'blue', 'greenyellow', 'gold'))\n",
        "\n",
        "pyplot.legend(loc='best', prop={'size': 15})\n",
        "pyplot.xlabel('Year', fontsize=12)\n",
        "pyplot.ylabel('Sales(Ratio)', fontsize=12)\n",
        "pyplot.title('Ratio of annual game sales by region', fontsize=20)"
      ],
      "execution_count": 182,
      "outputs": [
        {
          "output_type": "execute_result",
          "data": {
            "text/plain": [
              "Text(0.5, 1.0, 'Ratio of annual game sales by region')"
            ]
          },
          "metadata": {
            "tags": []
          },
          "execution_count": 182
        },
        {
          "output_type": "display_data",
          "data": {
            "image/png": "[encoded data removed]",
            "text/plain": [
              "<Figure size 1440x576 with 1 Axes>"
            ]
          },
          "metadata": {
            "tags": [],
            "needs_background": "light"
          }
        }
      ]
    },
    {
      "cell_type": "markdown",
      "metadata": {
        "id": "YqujwIMnmfLb"
      },
      "source": [
        "\n",
        "지역별 판매량에 대한 누적 그래프 및 누적 비율 그래프를 나타내보았습나다.\n",
        "\n",
        "판매량에 있어서 **유럽, 북미, 일본 시장 순으로 높은 판매량**을 보여주고 있으며,\n",
        "\n",
        "이 **세 시장의 점유율은 90%**를 넘습니다."
      ]
    },
    {
      "cell_type": "code",
      "metadata": {
        "colab": {
          "base_uri": "https://localhost:8080/",
          "height": 589
        },
        "id": "mGQatEukoXH6",
        "outputId": "6d0dbeba-bb08-4446-e2dd-8f5b208e9993"
      },
      "source": [
        "# 게임당 지역별 평균 매출액 누적 비율 그래프\n",
        "\n",
        "df_region_per = df.groupby(['Year'])['NA_Sales', 'EU_Sales', 'JP_Sales', 'Other_Sales'].mean()\n",
        "df_region_per = df_region_per.iloc[20:37]\n",
        "df_region_per['total'] = df_region_per.apply(lambda row: sum([row['NA_Sales'], row['EU_Sales'], row['JP_Sales'], row['Other_Sales']]), axis=1)\n",
        "df_region_per['NA_Sales'] = df_region_per['NA_Sales'] / df_region_per['total'] * 100\n",
        "df_region_per['EU_Sales'] = df_region_per['EU_Sales'] / df_region_per['total'] * 100\n",
        "df_region_per['JP_Sales'] = df_region_per['JP_Sales'] / df_region_per['total'] * 100\n",
        "df_region_per['Other_Sales'] = df_region_per['Other_Sales'] / df_region_per['total'] * 100\n",
        "df_region_per = df_region_per.drop(['total'], axis=1)\n",
        "\n",
        "\n",
        "pyplot.rcParams['figure.figsize'] = [20, 8]\n",
        "\n",
        "x = df_region_per.index.values\n",
        "\n",
        "df_region_per.plot.bar(stacked=True, color=('#1f77b4', '#ff7f0e', '#2ca02c', '#d62728', '#9467bd', '#8c564b', '#e377c2', '#7f7f7f', '#bcbd22', '#17becf', 'black', 'blue', 'greenyellow', 'gold'))\n",
        "\n",
        "pyplot.legend(loc='best', prop={'size': 15})\n",
        "pyplot.xlabel('Year', fontsize=12)\n",
        "pyplot.ylabel('Sales(Ratio)', fontsize=12)\n",
        "pyplot.title('Ratio of annual sales per game by region', fontsize=20)"
      ],
      "execution_count": 183,
      "outputs": [
        {
          "output_type": "stream",
          "text": [
            "/usr/local/lib/python3.7/dist-packages/ipykernel_launcher.py:3: FutureWarning: Indexing with multiple keys (implicitly converted to a tuple of keys) will be deprecated, use a list instead.\n",
            "  This is separate from the ipykernel package so we can avoid doing imports until\n"
          ],
          "name": "stderr"
        },
        {
          "output_type": "execute_result",
          "data": {
            "text/plain": [
              "Text(0.5, 1.0, 'Ratio of annual sales per game by region')"
            ]
          },
          "metadata": {
            "tags": []
          },
          "execution_count": 183
        },
        {
          "output_type": "display_data",
          "data": {
            "image/png": "[encoded data removed]",
            "text/plain": [
              "<Figure size 1440x576 with 1 Axes>"
            ]
          },
          "metadata": {
            "tags": [],
            "needs_background": "light"
          }
        }
      ]
    },
    {
      "cell_type": "markdown",
      "metadata": {
        "id": "c44GZx_3umVk"
      },
      "source": [
        "\n",
        "지역별 출시 게임당 평균 판매량 또한 총 판매량과 유사한 점유율을 보이고 있습니다.\n",
        "\n",
        "따라서 전체 시장 규모의 10% 이하인 **기타 시장은 타겟시장에서 제외**하도록 하겠습니다."
      ]
    },
    {
      "cell_type": "code",
      "metadata": {
        "colab": {
          "base_uri": "https://localhost:8080/",
          "height": 589
        },
        "id": "0gmf5Jjb7kcq",
        "outputId": "7b259276-f002-44bc-ee3d-1d491551d70e"
      },
      "source": [
        "# 장르별 연간 판매량 그래프\n",
        "\n",
        "from matplotlib import pyplot\n",
        "import numpy as np\n",
        "\n",
        "# 장르별 판매량 합계를 보여주는 데이터프레임 생성\n",
        "\n",
        "df_genre = df.groupby(['Year','Genre'])['NA_Sales', 'EU_Sales', 'JP_Sales', 'Other_Sales'].sum()\n",
        "df_genre['total'] = df_genre.apply(lambda row: sum([row['NA_Sales'], row['EU_Sales'], row['JP_Sales'], row['Other_Sales']]), axis=1)\n",
        "df_genre = df_genre.drop(['NA_Sales', 'EU_Sales', 'JP_Sales', 'Other_Sales'], axis=1)\n",
        "df_genre = df_genre.reset_index()\n",
        "df_genre = df_genre.pivot(index='Year', columns='Genre', values='total')\n",
        "df_genre = df_genre.fillna(0)\n",
        "df_genre = df_genre.iloc[20:37]\n",
        "\n",
        "# 장르별 연간 판매량을 보여주는 그래프 생성\n",
        "pyplot.rcParams['figure.figsize'] = [21, 8]\n",
        "\n",
        "x = df_genre.index.values\n",
        "\n",
        "df_genre.plot.bar(stacked=True, color=('#1f77b4', '#ff7f0e', '#2ca02c', '#d62728', '#9467bd', '#8c564b', '#e377c2', '#7f7f7f', '#bcbd22', '#17becf', 'black', 'blue', 'greenyellow', 'gold'))\n",
        "\n",
        "\n",
        "pyplot.legend(loc='best', prop={'size': 10})\n",
        "pyplot.xlabel('Year', fontsize=12)\n",
        "pyplot.ylabel('Sales(Total)', fontsize=12)\n",
        "pyplot.title('Total annual game sales by genre', fontsize=20)"
      ],
      "execution_count": 184,
      "outputs": [
        {
          "output_type": "stream",
          "text": [
            "/usr/local/lib/python3.7/dist-packages/ipykernel_launcher.py:8: FutureWarning: Indexing with multiple keys (implicitly converted to a tuple of keys) will be deprecated, use a list instead.\n",
            "  \n"
          ],
          "name": "stderr"
        },
        {
          "output_type": "execute_result",
          "data": {
            "text/plain": [
              "Text(0.5, 1.0, 'Total annual game sales by genre')"
            ]
          },
          "metadata": {
            "tags": []
          },
          "execution_count": 184
        },
        {
          "output_type": "display_data",
          "data": {
            "image/png": "[encoded data removed]",
            "text/plain": [
              "<Figure size 1512x576 with 1 Axes>"
            ]
          },
          "metadata": {
            "tags": [],
            "needs_background": "light"
          }
        }
      ]
    },
    {
      "cell_type": "code",
      "metadata": {
        "colab": {
          "base_uri": "https://localhost:8080/",
          "height": 554
        },
        "id": "h2t_GC2vQmos",
        "outputId": "c25dc9e7-4dbc-465c-ad9c-b8126a221298"
      },
      "source": [
        "# 장르별 판매데이터를 백분율로 변경\n",
        "df_genre['total'] = df_genre.apply(lambda row: sum([row['Action'], row['Adventure'], row['Fighting'], row['Misc'], row['Platform'], \n",
        "                                                    row['Puzzle'], row['Racing'], row['Role-Playing'], row['Shooter'], row['Simulation'], row['Sports'], row['Strategy']]), axis=1)\n",
        "df_genre['Action'] = df_genre['Action'] / df_genre['total'] * 100\n",
        "df_genre['Adventure'] = df_genre['Adventure'] / df_genre['total'] * 100\n",
        "df_genre['Fighting'] = df_genre['Fighting'] / df_genre['total'] * 100\n",
        "df_genre['Misc'] = df_genre['Misc'] / df_genre['total'] * 100\n",
        "df_genre['Platform'] = df_genre['Platform'] / df_genre['total'] * 100\n",
        "df_genre['Puzzle'] = df_genre['Puzzle'] / df_genre['total'] * 100\n",
        "df_genre['Racing'] = df_genre['Racing'] / df_genre['total'] * 100\n",
        "df_genre['Role-Playing'] = df_genre['Role-Playing'] / df_genre['total'] * 100\n",
        "df_genre['Shooter'] = df_genre['Shooter'] / df_genre['total'] * 100\n",
        "df_genre['Simulation'] = df_genre['Simulation'] / df_genre['total'] * 100\n",
        "df_genre['Sports'] = df_genre['Sports'] / df_genre['total'] * 100\n",
        "df_genre['Strategy'] = df_genre['Strategy'] / df_genre['total'] * 100\n",
        "df_genre = df_genre.drop(['total'], axis=1)\n",
        "df_genre\n",
        "\n",
        "# 장르별 연간 판매량을 보여주는 그래프 생성\n",
        "pyplot.rcParams['figure.figsize'] = [21, 8]\n",
        "\n",
        "x = df_genre.index.values\n",
        "\n",
        "df_genre.plot.bar(stacked=True, color=('#1f77b4', '#ff7f0e', '#2ca02c', '#d62728', '#9467bd', '#8c564b', '#e377c2', '#7f7f7f', '#bcbd22', '#17becf', 'black', 'blue', 'greenyellow', 'gold'))\n",
        "\n",
        "\n",
        "pyplot.legend(loc='best', prop={'size': 10})\n",
        "pyplot.xlabel('Year', fontsize=12)\n",
        "pyplot.ylabel('Sales(Ratio)', fontsize=12)\n",
        "pyplot.title('Total annual game sales by genre', fontsize=20)"
      ],
      "execution_count": 185,
      "outputs": [
        {
          "output_type": "execute_result",
          "data": {
            "text/plain": [
              "Text(0.5, 1.0, 'Total annual game sales by genre')"
            ]
          },
          "metadata": {
            "tags": []
          },
          "execution_count": 185
        },
        {
          "output_type": "display_data",
          "data": {
            "image/png": "[encoded data removed]",
            "text/plain": [
              "<Figure size 1512x576 with 1 Axes>"
            ]
          },
          "metadata": {
            "tags": [],
            "needs_background": "light"
          }
        }
      ]
    },
    {
      "cell_type": "markdown",
      "metadata": {
        "id": "Y2ofwXv6o8pH"
      },
      "source": [
        "\n",
        "장르별 연간 총 판매량에 있어서는 **Shooter, Sports, Role-playing, Action** 게임이 높은 판매 비중을 보이고 있습니다.\n",
        "\n",
        "\n"
      ]
    },
    {
      "cell_type": "code",
      "metadata": {
        "colab": {
          "base_uri": "https://localhost:8080/",
          "height": 589
        },
        "id": "vcubQSHjTUPF",
        "outputId": "768dc0fa-ba2b-4aae-ec53-dd7042867585"
      },
      "source": [
        "# 장르별 게임당 평균 판매량을 나타내는 데이터프레임 생성\n",
        "\n",
        "df_genre_per = df.groupby(['Year','Genre'])['NA_Sales', 'EU_Sales', 'JP_Sales', 'Other_Sales'].mean()\n",
        "df_genre_per['total'] = df_genre_per.apply(lambda row: sum([row['NA_Sales'], row['EU_Sales'], row['JP_Sales'], row['Other_Sales']]), axis=1)\n",
        "df_genre_per = df_genre_per.drop(['NA_Sales', 'EU_Sales', 'JP_Sales', 'Other_Sales'], axis=1)\n",
        "df_genre_per = df_genre_per.reset_index()\n",
        "df_genre_per = df_genre_per.pivot(index='Year', columns='Genre', values='total')\n",
        "df_genre_per = df_genre_per.fillna(0)\n",
        "df_genre_per = df_genre_per.iloc[20:37]\n",
        "\n",
        "# 장르별 게임당 판매데이터를 백분율로 변경\n",
        "df_genre_per['total'] = df_genre_per.apply(lambda row: sum([row['Action'], row['Adventure'], row['Fighting'], row['Misc'], row['Platform'], \n",
        "                                                    row['Puzzle'], row['Racing'], row['Role-Playing'], row['Shooter'], row['Simulation'], row['Sports'], row['Strategy']]), axis=1)\n",
        "df_genre_per['Action'] = df_genre_per['Action'] / df_genre_per['total'] * 100\n",
        "df_genre_per['Adventure'] = df_genre_per['Adventure'] / df_genre_per['total'] * 100\n",
        "df_genre_per['Fighting'] = df_genre_per['Fighting'] / df_genre_per['total'] * 100\n",
        "df_genre_per['Misc'] = df_genre_per['Misc'] / df_genre_per['total'] * 100\n",
        "df_genre_per['Platform'] = df_genre_per['Platform'] / df_genre_per['total'] * 100\n",
        "df_genre_per['Puzzle'] = df_genre_per['Puzzle'] / df_genre_per['total'] * 100\n",
        "df_genre_per['Racing'] = df_genre_per['Racing'] / df_genre_per['total'] * 100\n",
        "df_genre_per['Role-Playing'] = df_genre_per['Role-Playing'] / df_genre_per['total'] * 100\n",
        "df_genre_per['Shooter'] = df_genre_per['Shooter'] / df_genre_per['total'] * 100\n",
        "df_genre_per['Simulation'] = df_genre_per['Simulation'] / df_genre_per['total'] * 100\n",
        "df_genre_per['Sports'] = df_genre_per['Sports'] / df_genre_per['total'] * 100\n",
        "df_genre_per['Strategy'] = df_genre_per['Strategy'] / df_genre_per['total'] * 100\n",
        "df_genre_per = df_genre_per.drop(['total'], axis=1)\n",
        "df_genre_per\n",
        "\n",
        "# 장르별 게임당 연간 판매량을 보여주는 그래프 생성\n",
        "pyplot.rcParams['figure.figsize'] = [21, 8]\n",
        "\n",
        "x = df_genre.index.values\n",
        "\n",
        "df_genre_per.plot.bar(stacked=True, color=('#1f77b4', '#ff7f0e', '#2ca02c', '#d62728', '#9467bd', '#8c564b', '#e377c2', '#7f7f7f', '#bcbd22', '#17becf', 'black', 'blue', 'greenyellow', 'gold'))\n",
        "\n",
        "\n",
        "pyplot.legend(loc='best', prop={'size': 10})\n",
        "pyplot.xlabel('Year', fontsize=12)\n",
        "pyplot.ylabel('Sales(Total)', fontsize=12)\n",
        "pyplot.title('Total annual sales per game by genre', fontsize=20)"
      ],
      "execution_count": 80,
      "outputs": [
        {
          "output_type": "stream",
          "text": [
            "/usr/local/lib/python3.7/dist-packages/ipykernel_launcher.py:3: FutureWarning: Indexing with multiple keys (implicitly converted to a tuple of keys) will be deprecated, use a list instead.\n",
            "  This is separate from the ipykernel package so we can avoid doing imports until\n"
          ],
          "name": "stderr"
        },
        {
          "output_type": "execute_result",
          "data": {
            "text/plain": [
              "Text(0.5, 1.0, 'Total annual sales per game by genre')"
            ]
          },
          "metadata": {
            "tags": []
          },
          "execution_count": 80
        },
        {
          "output_type": "display_data",
          "data": {
            "image/png": "[encoded data removed]",
            "text/plain": [
              "<Figure size 1512x576 with 1 Axes>"
            ]
          },
          "metadata": {
            "tags": [],
            "needs_background": "light"
          }
        }
      ]
    },
    {
      "cell_type": "markdown",
      "metadata": {
        "id": "zC27AT_PvnqZ"
      },
      "source": [
        "장르별 연간 평균 판매량에 있어서는 **Shooter, Sports, Fighting, Platform, Role-playing, Action** 게임이 높은 판매 비중을 보이고 있습니다.\n",
        "\n"
      ]
    },
    {
      "cell_type": "code",
      "metadata": {
        "colab": {
          "base_uri": "https://localhost:8080/",
          "height": 538
        },
        "id": "6jFKqrz92CAY",
        "outputId": "62c21cae-14e5-4887-e3db-2e9d223cf6eb"
      },
      "source": [
        "# 장르별 총 판매량\n",
        "df_genre_sales = df.groupby(['Genre'])['NA_Sales', 'EU_Sales', 'JP_Sales'].sum()\n",
        "\n",
        "# 장르별 평균 판매량\n",
        "df_genre_sales[['NA_Sales_per', 'EU_Sales_per', 'JP_Sales_per']] = df.groupby(['Genre'])['NA_Sales', 'EU_Sales', 'JP_Sales'].mean()\n",
        "\n",
        "# 장르별 판매량 표준편차\n",
        "df_genre_sales[['NA_Sales_std', 'EU_Sales_std', 'JP_Sales_std']] = df.groupby(['Genre'])['NA_Sales', 'EU_Sales', 'JP_Sales'].std()\n",
        "\n",
        "# 순서정렬\n",
        "df_genre_sales = df_genre_sales.sort_values(by='NA_Sales', axis=0, ascending=False)\n",
        "\n",
        "df_genre_sales "
      ],
      "execution_count": 112,
      "outputs": [
        {
          "output_type": "stream",
          "text": [
            "/usr/local/lib/python3.7/dist-packages/ipykernel_launcher.py:2: FutureWarning: Indexing with multiple keys (implicitly converted to a tuple of keys) will be deprecated, use a list instead.\n",
            "  \n",
            "/usr/local/lib/python3.7/dist-packages/ipykernel_launcher.py:5: FutureWarning: Indexing with multiple keys (implicitly converted to a tuple of keys) will be deprecated, use a list instead.\n",
            "  \"\"\"\n",
            "/usr/local/lib/python3.7/dist-packages/ipykernel_launcher.py:8: FutureWarning: Indexing with multiple keys (implicitly converted to a tuple of keys) will be deprecated, use a list instead.\n",
            "  \n"
          ],
          "name": "stderr"
        },
        {
          "output_type": "execute_result",
          "data": {
            "text/html": [
              "<div>\n",
              "<style scoped>\n",
              "    .dataframe tbody tr th:only-of-type {\n",
              "        vertical-align: middle;\n",
              "    }\n",
              "\n",
              "    .dataframe tbody tr th {\n",
              "        vertical-align: top;\n",
              "    }\n",
              "\n",
              "    .dataframe thead th {\n",
              "        text-align: right;\n",
              "    }\n",
              "</style>\n",
              "<table border=\"1\" class=\"dataframe\">\n",
              "  <thead>\n",
              "    <tr style=\"text-align: right;\">\n",
              "      <th></th>\n",
              "      <th>NA_Sales</th>\n",
              "      <th>EU_Sales</th>\n",
              "      <th>JP_Sales</th>\n",
              "      <th>NA_Sales_per</th>\n",
              "      <th>EU_Sales_per</th>\n",
              "      <th>JP_Sales_per</th>\n",
              "      <th>NA_Sales_std</th>\n",
              "      <th>EU_Sales_std</th>\n",
              "      <th>JP_Sales_std</th>\n",
              "    </tr>\n",
              "    <tr>\n",
              "      <th>Genre</th>\n",
              "      <th></th>\n",
              "      <th></th>\n",
              "      <th></th>\n",
              "      <th></th>\n",
              "      <th></th>\n",
              "      <th></th>\n",
              "      <th></th>\n",
              "      <th></th>\n",
              "      <th></th>\n",
              "    </tr>\n",
              "  </thead>\n",
              "  <tbody>\n",
              "    <tr>\n",
              "      <th>Action</th>\n",
              "      <td>858.75</td>\n",
              "      <td>513.64</td>\n",
              "      <td>156.60</td>\n",
              "      <td>0.265046</td>\n",
              "      <td>0.158531</td>\n",
              "      <td>0.048333</td>\n",
              "      <td>0.571083</td>\n",
              "      <td>0.410886</td>\n",
              "      <td>0.164892</td>\n",
              "    </tr>\n",
              "    <tr>\n",
              "      <th>Sports</th>\n",
              "      <td>667.26</td>\n",
              "      <td>370.97</td>\n",
              "      <td>134.76</td>\n",
              "      <td>0.290239</td>\n",
              "      <td>0.161361</td>\n",
              "      <td>0.058617</td>\n",
              "      <td>1.047689</td>\n",
              "      <td>0.783081</td>\n",
              "      <td>0.225733</td>\n",
              "    </tr>\n",
              "    <tr>\n",
              "      <th>Shooter</th>\n",
              "      <td>574.48</td>\n",
              "      <td>310.23</td>\n",
              "      <td>38.18</td>\n",
              "      <td>0.448812</td>\n",
              "      <td>0.242367</td>\n",
              "      <td>0.029828</td>\n",
              "      <td>1.212672</td>\n",
              "      <td>0.554307</td>\n",
              "      <td>0.103505</td>\n",
              "    </tr>\n",
              "    <tr>\n",
              "      <th>Platform</th>\n",
              "      <td>445.38</td>\n",
              "      <td>200.63</td>\n",
              "      <td>130.53</td>\n",
              "      <td>0.510172</td>\n",
              "      <td>0.229817</td>\n",
              "      <td>0.149519</td>\n",
              "      <td>1.512274</td>\n",
              "      <td>0.592370</td>\n",
              "      <td>0.528878</td>\n",
              "    </tr>\n",
              "    <tr>\n",
              "      <th>Misc</th>\n",
              "      <td>394.73</td>\n",
              "      <td>208.15</td>\n",
              "      <td>104.18</td>\n",
              "      <td>0.234819</td>\n",
              "      <td>0.123825</td>\n",
              "      <td>0.061975</td>\n",
              "      <td>0.698647</td>\n",
              "      <td>0.445980</td>\n",
              "      <td>0.241776</td>\n",
              "    </tr>\n",
              "    <tr>\n",
              "      <th>Racing</th>\n",
              "      <td>354.70</td>\n",
              "      <td>235.02</td>\n",
              "      <td>56.32</td>\n",
              "      <td>0.290976</td>\n",
              "      <td>0.192797</td>\n",
              "      <td>0.046202</td>\n",
              "      <td>0.750121</td>\n",
              "      <td>0.587499</td>\n",
              "      <td>0.269769</td>\n",
              "    </tr>\n",
              "    <tr>\n",
              "      <th>Role-Playing</th>\n",
              "      <td>318.76</td>\n",
              "      <td>183.09</td>\n",
              "      <td>342.93</td>\n",
              "      <td>0.217584</td>\n",
              "      <td>0.124976</td>\n",
              "      <td>0.234082</td>\n",
              "      <td>0.663633</td>\n",
              "      <td>0.481635</td>\n",
              "      <td>0.640747</td>\n",
              "    </tr>\n",
              "    <tr>\n",
              "      <th>Fighting</th>\n",
              "      <td>220.35</td>\n",
              "      <td>99.90</td>\n",
              "      <td>87.14</td>\n",
              "      <td>0.263892</td>\n",
              "      <td>0.119641</td>\n",
              "      <td>0.104359</td>\n",
              "      <td>0.517588</td>\n",
              "      <td>0.252813</td>\n",
              "      <td>0.260628</td>\n",
              "    </tr>\n",
              "    <tr>\n",
              "      <th>Simulation</th>\n",
              "      <td>181.43</td>\n",
              "      <td>112.99</td>\n",
              "      <td>63.54</td>\n",
              "      <td>0.214456</td>\n",
              "      <td>0.133558</td>\n",
              "      <td>0.075106</td>\n",
              "      <td>0.471814</td>\n",
              "      <td>0.520098</td>\n",
              "      <td>0.306947</td>\n",
              "    </tr>\n",
              "    <tr>\n",
              "      <th>Puzzle</th>\n",
              "      <td>121.58</td>\n",
              "      <td>50.47</td>\n",
              "      <td>56.24</td>\n",
              "      <td>0.214806</td>\n",
              "      <td>0.089170</td>\n",
              "      <td>0.099364</td>\n",
              "      <td>1.072251</td>\n",
              "      <td>0.322802</td>\n",
              "      <td>0.368903</td>\n",
              "    </tr>\n",
              "    <tr>\n",
              "      <th>Adventure</th>\n",
              "      <td>101.79</td>\n",
              "      <td>63.66</td>\n",
              "      <td>51.87</td>\n",
              "      <td>0.080276</td>\n",
              "      <td>0.050205</td>\n",
              "      <td>0.040907</td>\n",
              "      <td>0.268477</td>\n",
              "      <td>0.177600</td>\n",
              "      <td>0.120791</td>\n",
              "    </tr>\n",
              "    <tr>\n",
              "      <th>Strategy</th>\n",
              "      <td>67.83</td>\n",
              "      <td>44.82</td>\n",
              "      <td>49.10</td>\n",
              "      <td>0.101390</td>\n",
              "      <td>0.066996</td>\n",
              "      <td>0.073393</td>\n",
              "      <td>0.301143</td>\n",
              "      <td>0.194190</td>\n",
              "      <td>0.172687</td>\n",
              "    </tr>\n",
              "  </tbody>\n",
              "</table>\n",
              "</div>"
            ],
            "text/plain": [
              "              NA_Sales  EU_Sales  ...  EU_Sales_std  JP_Sales_std\n",
              "Genre                             ...                            \n",
              "Action          858.75    513.64  ...      0.410886      0.164892\n",
              "Sports          667.26    370.97  ...      0.783081      0.225733\n",
              "Shooter         574.48    310.23  ...      0.554307      0.103505\n",
              "Platform        445.38    200.63  ...      0.592370      0.528878\n",
              "Misc            394.73    208.15  ...      0.445980      0.241776\n",
              "Racing          354.70    235.02  ...      0.587499      0.269769\n",
              "Role-Playing    318.76    183.09  ...      0.481635      0.640747\n",
              "Fighting        220.35     99.90  ...      0.252813      0.260628\n",
              "Simulation      181.43    112.99  ...      0.520098      0.306947\n",
              "Puzzle          121.58     50.47  ...      0.322802      0.368903\n",
              "Adventure       101.79     63.66  ...      0.177600      0.120791\n",
              "Strategy         67.83     44.82  ...      0.194190      0.172687\n",
              "\n",
              "[12 rows x 9 columns]"
            ]
          },
          "metadata": {
            "tags": []
          },
          "execution_count": 112
        }
      ]
    },
    {
      "cell_type": "markdown",
      "metadata": {
        "id": "4QvcX0IgqQk8"
      },
      "source": [
        "\n",
        "출시 장르를 확정하기 위해, 장르에 따른 지역별 판매량에 대한 분석을 진행하겠습니다.\n",
        "\n",
        "현재 3개 시장의 데이터를 분석해야 하기 때문에 해석에 어려움이 있습니다.\n",
        "\n",
        "따라서 **3차원의 데이터를 2차원이 데이터로 줄여** 분석을 보다 편리하게 진행하도록 하겠습니다.\n"
      ]
    },
    {
      "cell_type": "code",
      "metadata": {
        "colab": {
          "base_uri": "https://localhost:8080/",
          "height": 286
        },
        "id": "tQNMbyCNAO-h",
        "outputId": "f8b2015e-107e-4210-b7d2-a9450d2e8b91"
      },
      "source": [
        "# 미국시장과 유럽시장의 판매량 상관계수\n",
        "df_2 = df[['NA_Sales', 'EU_Sales']]\n",
        "df_corr_2 = df_2.corr(method = 'pearson')\n",
        "display(df_corr_2)\n",
        "\n",
        "# 미국시장과 일본시장의 판매량 상관계수\n",
        "df_3 = df[['NA_Sales', 'JP_Sales']]\n",
        "df_corr_3 = df_3.corr(method = 'pearson')\n",
        "display(df_corr_3)\n",
        "\n",
        "# 유럽시장과 일본시장의 판매량 상관계수\n",
        "df_4 = df[['EU_Sales', 'JP_Sales']]\n",
        "df_corr_4 = df_4.corr(method = 'pearson')\n",
        "display(df_corr_4)"
      ],
      "execution_count": 113,
      "outputs": [
        {
          "output_type": "display_data",
          "data": {
            "text/html": [
              "<div>\n",
              "<style scoped>\n",
              "    .dataframe tbody tr th:only-of-type {\n",
              "        vertical-align: middle;\n",
              "    }\n",
              "\n",
              "    .dataframe tbody tr th {\n",
              "        vertical-align: top;\n",
              "    }\n",
              "\n",
              "    .dataframe thead th {\n",
              "        text-align: right;\n",
              "    }\n",
              "</style>\n",
              "<table border=\"1\" class=\"dataframe\">\n",
              "  <thead>\n",
              "    <tr style=\"text-align: right;\">\n",
              "      <th></th>\n",
              "      <th>NA_Sales</th>\n",
              "      <th>EU_Sales</th>\n",
              "    </tr>\n",
              "  </thead>\n",
              "  <tbody>\n",
              "    <tr>\n",
              "      <th>NA_Sales</th>\n",
              "      <td>1.000000</td>\n",
              "      <td>0.768906</td>\n",
              "    </tr>\n",
              "    <tr>\n",
              "      <th>EU_Sales</th>\n",
              "      <td>0.768906</td>\n",
              "      <td>1.000000</td>\n",
              "    </tr>\n",
              "  </tbody>\n",
              "</table>\n",
              "</div>"
            ],
            "text/plain": [
              "          NA_Sales  EU_Sales\n",
              "NA_Sales  1.000000  0.768906\n",
              "EU_Sales  0.768906  1.000000"
            ]
          },
          "metadata": {
            "tags": []
          }
        },
        {
          "output_type": "display_data",
          "data": {
            "text/html": [
              "<div>\n",
              "<style scoped>\n",
              "    .dataframe tbody tr th:only-of-type {\n",
              "        vertical-align: middle;\n",
              "    }\n",
              "\n",
              "    .dataframe tbody tr th {\n",
              "        vertical-align: top;\n",
              "    }\n",
              "\n",
              "    .dataframe thead th {\n",
              "        text-align: right;\n",
              "    }\n",
              "</style>\n",
              "<table border=\"1\" class=\"dataframe\">\n",
              "  <thead>\n",
              "    <tr style=\"text-align: right;\">\n",
              "      <th></th>\n",
              "      <th>NA_Sales</th>\n",
              "      <th>JP_Sales</th>\n",
              "    </tr>\n",
              "  </thead>\n",
              "  <tbody>\n",
              "    <tr>\n",
              "      <th>NA_Sales</th>\n",
              "      <td>1.000000</td>\n",
              "      <td>0.449358</td>\n",
              "    </tr>\n",
              "    <tr>\n",
              "      <th>JP_Sales</th>\n",
              "      <td>0.449358</td>\n",
              "      <td>1.000000</td>\n",
              "    </tr>\n",
              "  </tbody>\n",
              "</table>\n",
              "</div>"
            ],
            "text/plain": [
              "          NA_Sales  JP_Sales\n",
              "NA_Sales  1.000000  0.449358\n",
              "JP_Sales  0.449358  1.000000"
            ]
          },
          "metadata": {
            "tags": []
          }
        },
        {
          "output_type": "display_data",
          "data": {
            "text/html": [
              "<div>\n",
              "<style scoped>\n",
              "    .dataframe tbody tr th:only-of-type {\n",
              "        vertical-align: middle;\n",
              "    }\n",
              "\n",
              "    .dataframe tbody tr th {\n",
              "        vertical-align: top;\n",
              "    }\n",
              "\n",
              "    .dataframe thead th {\n",
              "        text-align: right;\n",
              "    }\n",
              "</style>\n",
              "<table border=\"1\" class=\"dataframe\">\n",
              "  <thead>\n",
              "    <tr style=\"text-align: right;\">\n",
              "      <th></th>\n",
              "      <th>EU_Sales</th>\n",
              "      <th>JP_Sales</th>\n",
              "    </tr>\n",
              "  </thead>\n",
              "  <tbody>\n",
              "    <tr>\n",
              "      <th>EU_Sales</th>\n",
              "      <td>1.00000</td>\n",
              "      <td>0.43235</td>\n",
              "    </tr>\n",
              "    <tr>\n",
              "      <th>JP_Sales</th>\n",
              "      <td>0.43235</td>\n",
              "      <td>1.00000</td>\n",
              "    </tr>\n",
              "  </tbody>\n",
              "</table>\n",
              "</div>"
            ],
            "text/plain": [
              "          EU_Sales  JP_Sales\n",
              "EU_Sales   1.00000   0.43235\n",
              "JP_Sales   0.43235   1.00000"
            ]
          },
          "metadata": {
            "tags": []
          }
        }
      ]
    },
    {
      "cell_type": "markdown",
      "metadata": {
        "id": "MhkqTe_ECA3l"
      },
      "source": [
        "\n",
        "\n",
        "장르에 따른 게임 판매량에 대해 지역별 상관관계 분석을 진행해보니 **북미시장의 판매량과 유럽시장의 판매량의 상관계수가 0.77 수준으로  강한 양의 상관관계**를 보이고 있음을 알 수 있습니다.\n",
        "\n",
        "이는 유럽과 북미시장 둘 중 한곳의 시장에서 좋은 반응을 보일경우 다른 시장에서도 좋은 반응을 얻었다는 것입니다.\n",
        "\n",
        "따라서 북미시장과 유럽시장을 하나의 특성으로 묶어서 분석을 진행하겠습니다.\n",
        "\n",
        "단, 북미/유럽 시장과 일본 시장의 판매량에 대한 Scale 차이가 있기 때문에 지금부터는 데이터를 정규화 한 뒤에 분석을 진행하겠습니다.\n"
      ]
    },
    {
      "cell_type": "code",
      "metadata": {
        "colab": {
          "base_uri": "https://localhost:8080/",
          "height": 213
        },
        "id": "SIarObKCL0jK",
        "outputId": "adf7c07b-ba14-4146-a676-d5ea08704074"
      },
      "source": [
        "# 북미시장과 유럽시장을 하나의 특성으로 묶을 목적으로 PCA 분석 진행\n",
        "\n",
        "df_NA_EU = df[['NA_Sales', 'EU_Sales']]\n",
        "\n",
        "# array 형태로 변경\n",
        "x = df_NA_EU.values\n",
        "\n",
        "# 변수간 스케일을 맞추기 위해 정규화 진행\n",
        "from sklearn.preprocessing import StandardScaler\n",
        "x = StandardScaler().fit_transform(x)\n",
        "\n",
        "# PCA 분석 진행\n",
        "from sklearn.decomposition import PCA\n",
        "pca = PCA(n_components=1)\n",
        "PC = pca.fit_transform(x)\n",
        "NA_EU_Sales = pd.DataFrame(data = PC, columns = ['NA_EU_Sales'])\n",
        "display(NA_EU_Sales.head())\n",
        "NA_EU_Sales.shape"
      ],
      "execution_count": 114,
      "outputs": [
        {
          "output_type": "display_data",
          "data": {
            "text/html": [
              "<div>\n",
              "<style scoped>\n",
              "    .dataframe tbody tr th:only-of-type {\n",
              "        vertical-align: middle;\n",
              "    }\n",
              "\n",
              "    .dataframe tbody tr th {\n",
              "        vertical-align: top;\n",
              "    }\n",
              "\n",
              "    .dataframe thead th {\n",
              "        text-align: right;\n",
              "    }\n",
              "</style>\n",
              "<table border=\"1\" class=\"dataframe\">\n",
              "  <thead>\n",
              "    <tr style=\"text-align: right;\">\n",
              "      <th></th>\n",
              "      <th>NA_EU_Sales</th>\n",
              "    </tr>\n",
              "  </thead>\n",
              "  <tbody>\n",
              "    <tr>\n",
              "      <th>0</th>\n",
              "      <td>-0.398635</td>\n",
              "    </tr>\n",
              "    <tr>\n",
              "      <th>1</th>\n",
              "      <td>-0.286861</td>\n",
              "    </tr>\n",
              "    <tr>\n",
              "      <th>2</th>\n",
              "      <td>-0.433027</td>\n",
              "    </tr>\n",
              "    <tr>\n",
              "      <th>3</th>\n",
              "      <td>-0.398635</td>\n",
              "    </tr>\n",
              "    <tr>\n",
              "      <th>4</th>\n",
              "      <td>-0.204656</td>\n",
              "    </tr>\n",
              "  </tbody>\n",
              "</table>\n",
              "</div>"
            ],
            "text/plain": [
              "   NA_EU_Sales\n",
              "0    -0.398635\n",
              "1    -0.286861\n",
              "2    -0.433027\n",
              "3    -0.398635\n",
              "4    -0.204656"
            ]
          },
          "metadata": {
            "tags": []
          }
        },
        {
          "output_type": "execute_result",
          "data": {
            "text/plain": [
              "(16241, 1)"
            ]
          },
          "metadata": {
            "tags": []
          },
          "execution_count": 114
        }
      ]
    },
    {
      "cell_type": "code",
      "metadata": {
        "colab": {
          "base_uri": "https://localhost:8080/",
          "height": 213
        },
        "id": "zZkr0ItgNzrW",
        "outputId": "789b13d3-2124-4e9a-a837-368da40d2f7e"
      },
      "source": [
        "# 일본시장에 대한 정규화 진행\n",
        "\n",
        "df_JP = df[['JP_Sales']]\n",
        "\n",
        "# array 형태로 변경\n",
        "y = df_JP.values\n",
        "\n",
        "# 변수간 스케일을 맞추기 위해 정규화 진행\n",
        "from sklearn.preprocessing import StandardScaler\n",
        "y = StandardScaler().fit_transform(y)\n",
        "df_JP = pd.DataFrame(data = y, columns = ['JP_Sales'])\n",
        "display(df_JP.head())\n",
        "df_JP.shape"
      ],
      "execution_count": 115,
      "outputs": [
        {
          "output_type": "display_data",
          "data": {
            "text/html": [
              "<div>\n",
              "<style scoped>\n",
              "    .dataframe tbody tr th:only-of-type {\n",
              "        vertical-align: middle;\n",
              "    }\n",
              "\n",
              "    .dataframe tbody tr th {\n",
              "        vertical-align: top;\n",
              "    }\n",
              "\n",
              "    .dataframe thead th {\n",
              "        text-align: right;\n",
              "    }\n",
              "</style>\n",
              "<table border=\"1\" class=\"dataframe\">\n",
              "  <thead>\n",
              "    <tr style=\"text-align: right;\">\n",
              "      <th></th>\n",
              "      <th>JP_Sales</th>\n",
              "    </tr>\n",
              "  </thead>\n",
              "  <tbody>\n",
              "    <tr>\n",
              "      <th>0</th>\n",
              "      <td>-0.253127</td>\n",
              "    </tr>\n",
              "    <tr>\n",
              "      <th>1</th>\n",
              "      <td>-0.253127</td>\n",
              "    </tr>\n",
              "    <tr>\n",
              "      <th>2</th>\n",
              "      <td>-0.188457</td>\n",
              "    </tr>\n",
              "    <tr>\n",
              "      <th>3</th>\n",
              "      <td>-0.253127</td>\n",
              "    </tr>\n",
              "    <tr>\n",
              "      <th>4</th>\n",
              "      <td>-0.253127</td>\n",
              "    </tr>\n",
              "  </tbody>\n",
              "</table>\n",
              "</div>"
            ],
            "text/plain": [
              "   JP_Sales\n",
              "0 -0.253127\n",
              "1 -0.253127\n",
              "2 -0.188457\n",
              "3 -0.253127\n",
              "4 -0.253127"
            ]
          },
          "metadata": {
            "tags": []
          }
        },
        {
          "output_type": "execute_result",
          "data": {
            "text/plain": [
              "(16241, 1)"
            ]
          },
          "metadata": {
            "tags": []
          },
          "execution_count": 115
        }
      ]
    },
    {
      "cell_type": "code",
      "metadata": {
        "colab": {
          "base_uri": "https://localhost:8080/",
          "height": 285
        },
        "id": "elIvUqH-O1p0",
        "outputId": "3debfd8e-ef24-44e7-89f2-5550482ea235"
      },
      "source": [
        "# 북미&유럽시장과 일본시장에서의 평균 판매량 및 표준편차에 대한 표준화 데이터 테이블 생성\n",
        "df_sales_plot = pd.concat([NA_EU_Sales, df_JP], axis=1)\n",
        "df_sales_plot = pd.concat([df_sales_plot, df['Genre']], axis = 1)\n",
        "display(df_sales_plot.head())\n",
        "df_sales_plot.shape\n",
        "\n",
        "# 북미&유럽 시장과 일본 시장의 판매량 상관계수\n",
        "df_5 = df_sales_plot[['NA_EU_Sales', 'JP_Sales']]\n",
        "df_corr_5 = df_5.corr(method = 'pearson')\n",
        "display(df_corr_5)"
      ],
      "execution_count": 116,
      "outputs": [
        {
          "output_type": "display_data",
          "data": {
            "text/html": [
              "<div>\n",
              "<style scoped>\n",
              "    .dataframe tbody tr th:only-of-type {\n",
              "        vertical-align: middle;\n",
              "    }\n",
              "\n",
              "    .dataframe tbody tr th {\n",
              "        vertical-align: top;\n",
              "    }\n",
              "\n",
              "    .dataframe thead th {\n",
              "        text-align: right;\n",
              "    }\n",
              "</style>\n",
              "<table border=\"1\" class=\"dataframe\">\n",
              "  <thead>\n",
              "    <tr style=\"text-align: right;\">\n",
              "      <th></th>\n",
              "      <th>NA_EU_Sales</th>\n",
              "      <th>JP_Sales</th>\n",
              "      <th>Genre</th>\n",
              "    </tr>\n",
              "  </thead>\n",
              "  <tbody>\n",
              "    <tr>\n",
              "      <th>0</th>\n",
              "      <td>-0.398635</td>\n",
              "      <td>-0.253127</td>\n",
              "      <td>Action</td>\n",
              "    </tr>\n",
              "    <tr>\n",
              "      <th>1</th>\n",
              "      <td>-0.286861</td>\n",
              "      <td>-0.253127</td>\n",
              "      <td>Action</td>\n",
              "    </tr>\n",
              "    <tr>\n",
              "      <th>2</th>\n",
              "      <td>-0.433027</td>\n",
              "      <td>-0.188457</td>\n",
              "      <td>Adventure</td>\n",
              "    </tr>\n",
              "    <tr>\n",
              "      <th>3</th>\n",
              "      <td>-0.398635</td>\n",
              "      <td>-0.253127</td>\n",
              "      <td>Misc</td>\n",
              "    </tr>\n",
              "    <tr>\n",
              "      <th>4</th>\n",
              "      <td>-0.204656</td>\n",
              "      <td>-0.253127</td>\n",
              "      <td>Platform</td>\n",
              "    </tr>\n",
              "  </tbody>\n",
              "</table>\n",
              "</div>"
            ],
            "text/plain": [
              "   NA_EU_Sales  JP_Sales      Genre\n",
              "0    -0.398635 -0.253127     Action\n",
              "1    -0.286861 -0.253127     Action\n",
              "2    -0.433027 -0.188457  Adventure\n",
              "3    -0.398635 -0.253127       Misc\n",
              "4    -0.204656 -0.253127   Platform"
            ]
          },
          "metadata": {
            "tags": []
          }
        },
        {
          "output_type": "display_data",
          "data": {
            "text/html": [
              "<div>\n",
              "<style scoped>\n",
              "    .dataframe tbody tr th:only-of-type {\n",
              "        vertical-align: middle;\n",
              "    }\n",
              "\n",
              "    .dataframe tbody tr th {\n",
              "        vertical-align: top;\n",
              "    }\n",
              "\n",
              "    .dataframe thead th {\n",
              "        text-align: right;\n",
              "    }\n",
              "</style>\n",
              "<table border=\"1\" class=\"dataframe\">\n",
              "  <thead>\n",
              "    <tr style=\"text-align: right;\">\n",
              "      <th></th>\n",
              "      <th>NA_EU_Sales</th>\n",
              "      <th>JP_Sales</th>\n",
              "    </tr>\n",
              "  </thead>\n",
              "  <tbody>\n",
              "    <tr>\n",
              "      <th>NA_EU_Sales</th>\n",
              "      <td>1.000000</td>\n",
              "      <td>0.468767</td>\n",
              "    </tr>\n",
              "    <tr>\n",
              "      <th>JP_Sales</th>\n",
              "      <td>0.468767</td>\n",
              "      <td>1.000000</td>\n",
              "    </tr>\n",
              "  </tbody>\n",
              "</table>\n",
              "</div>"
            ],
            "text/plain": [
              "             NA_EU_Sales  JP_Sales\n",
              "NA_EU_Sales     1.000000  0.468767\n",
              "JP_Sales        0.468767  1.000000"
            ]
          },
          "metadata": {
            "tags": []
          }
        }
      ]
    },
    {
      "cell_type": "markdown",
      "metadata": {
        "id": "cJjx8b_GrZeL"
      },
      "source": [
        "\n",
        "북미/유럽 시장의 데이터와 일본 시장의 데이터에 대한 장르별 상관관계 분석을 진행했습니다.\n",
        "\n",
        "***상관계수가 약 0.47로 양의 상관관계***를 보이고 있으며, 장르를 확정하기 위해 이를 시각화하도록 하겠습니다.\n"
      ]
    },
    {
      "cell_type": "code",
      "metadata": {
        "colab": {
          "base_uri": "https://localhost:8080/",
          "height": 918
        },
        "id": "k38MM4A0Vks1",
        "outputId": "02b3c83e-3574-4441-9bc5-b54d8bddf3ab"
      },
      "source": [
        "from pandas import DataFrame\n",
        "\n",
        "# 북미&유럽시장과 일본시장에서의 장르별로 그룹화된 평균 판매량 및 표준편차에 대한 표준화 데이터 테이블 생성\n",
        "df_genre_std = df_sales_plot.groupby(['Genre'])['NA_EU_Sales', 'JP_Sales'].mean()\n",
        "df_genre_std[['NA_EU_Sales_std', 'JP_Sales_std']] = df_sales_plot.groupby(['Genre'])['NA_EU_Sales', 'JP_Sales'].std()\n",
        "display(df_genre_std)\n",
        "\n",
        "\n",
        "\n",
        "corr_NAEU_JP = lambda g: g['NA_EU_Sales'].corr(g['JP_Sales'])\n",
        "grouped = df_sales_plot.groupby('Genre')\n",
        "DataFrame(grouped.apply(corr_NAEU_JP))"
      ],
      "execution_count": 119,
      "outputs": [
        {
          "output_type": "stream",
          "text": [
            "/usr/local/lib/python3.7/dist-packages/ipykernel_launcher.py:4: FutureWarning: Indexing with multiple keys (implicitly converted to a tuple of keys) will be deprecated, use a list instead.\n",
            "  after removing the cwd from sys.path.\n",
            "/usr/local/lib/python3.7/dist-packages/ipykernel_launcher.py:5: FutureWarning: Indexing with multiple keys (implicitly converted to a tuple of keys) will be deprecated, use a list instead.\n",
            "  \"\"\"\n"
          ],
          "name": "stderr"
        },
        {
          "output_type": "display_data",
          "data": {
            "text/html": [
              "<div>\n",
              "<style scoped>\n",
              "    .dataframe tbody tr th:only-of-type {\n",
              "        vertical-align: middle;\n",
              "    }\n",
              "\n",
              "    .dataframe tbody tr th {\n",
              "        vertical-align: top;\n",
              "    }\n",
              "\n",
              "    .dataframe thead th {\n",
              "        text-align: right;\n",
              "    }\n",
              "</style>\n",
              "<table border=\"1\" class=\"dataframe\">\n",
              "  <thead>\n",
              "    <tr style=\"text-align: right;\">\n",
              "      <th></th>\n",
              "      <th>NA_EU_Sales</th>\n",
              "      <th>JP_Sales</th>\n",
              "      <th>NA_EU_Sales_std</th>\n",
              "      <th>JP_Sales_std</th>\n",
              "    </tr>\n",
              "    <tr>\n",
              "      <th>Genre</th>\n",
              "      <th></th>\n",
              "      <th></th>\n",
              "      <th></th>\n",
              "      <th></th>\n",
              "    </tr>\n",
              "  </thead>\n",
              "  <tbody>\n",
              "    <tr>\n",
              "      <th>Action</th>\n",
              "      <td>0.015386</td>\n",
              "      <td>-0.096841</td>\n",
              "      <td>1.008699</td>\n",
              "      <td>0.533179</td>\n",
              "    </tr>\n",
              "    <tr>\n",
              "      <th>Adventure</th>\n",
              "      <td>-0.294168</td>\n",
              "      <td>-0.120855</td>\n",
              "      <td>0.441824</td>\n",
              "      <td>0.390577</td>\n",
              "    </tr>\n",
              "    <tr>\n",
              "      <th>Fighting</th>\n",
              "      <td>-0.039705</td>\n",
              "      <td>0.084318</td>\n",
              "      <td>0.758336</td>\n",
              "      <td>0.842741</td>\n",
              "    </tr>\n",
              "    <tr>\n",
              "      <th>Misc</th>\n",
              "      <td>-0.058882</td>\n",
              "      <td>-0.052731</td>\n",
              "      <td>1.156369</td>\n",
              "      <td>0.781782</td>\n",
              "    </tr>\n",
              "    <tr>\n",
              "      <th>Platform</th>\n",
              "      <td>0.325308</td>\n",
              "      <td>0.230342</td>\n",
              "      <td>2.017268</td>\n",
              "      <td>1.710125</td>\n",
              "    </tr>\n",
              "    <tr>\n",
              "      <th>Puzzle</th>\n",
              "      <td>-0.124297</td>\n",
              "      <td>0.068166</td>\n",
              "      <td>1.199575</td>\n",
              "      <td>1.192846</td>\n",
              "    </tr>\n",
              "    <tr>\n",
              "      <th>Racing</th>\n",
              "      <td>0.085347</td>\n",
              "      <td>-0.103734</td>\n",
              "      <td>1.417551</td>\n",
              "      <td>0.872298</td>\n",
              "    </tr>\n",
              "    <tr>\n",
              "      <th>Role-Playing</th>\n",
              "      <td>-0.072099</td>\n",
              "      <td>0.503777</td>\n",
              "      <td>1.200821</td>\n",
              "      <td>2.071855</td>\n",
              "    </tr>\n",
              "    <tr>\n",
              "      <th>Shooter</th>\n",
              "      <td>0.290009</td>\n",
              "      <td>-0.156678</td>\n",
              "      <td>1.662664</td>\n",
              "      <td>0.334684</td>\n",
              "    </tr>\n",
              "    <tr>\n",
              "      <th>Simulation</th>\n",
              "      <td>-0.062851</td>\n",
              "      <td>-0.010271</td>\n",
              "      <td>1.076356</td>\n",
              "      <td>0.992513</td>\n",
              "    </tr>\n",
              "    <tr>\n",
              "      <th>Sports</th>\n",
              "      <td>0.040984</td>\n",
              "      <td>-0.063590</td>\n",
              "      <td>1.920633</td>\n",
              "      <td>0.729908</td>\n",
              "    </tr>\n",
              "    <tr>\n",
              "      <th>Strategy</th>\n",
              "      <td>-0.252657</td>\n",
              "      <td>-0.015811</td>\n",
              "      <td>0.482094</td>\n",
              "      <td>0.558382</td>\n",
              "    </tr>\n",
              "  </tbody>\n",
              "</table>\n",
              "</div>"
            ],
            "text/plain": [
              "              NA_EU_Sales  JP_Sales  NA_EU_Sales_std  JP_Sales_std\n",
              "Genre                                                             \n",
              "Action           0.015386 -0.096841         1.008699      0.533179\n",
              "Adventure       -0.294168 -0.120855         0.441824      0.390577\n",
              "Fighting        -0.039705  0.084318         0.758336      0.842741\n",
              "Misc            -0.058882 -0.052731         1.156369      0.781782\n",
              "Platform         0.325308  0.230342         2.017268      1.710125\n",
              "Puzzle          -0.124297  0.068166         1.199575      1.192846\n",
              "Racing           0.085347 -0.103734         1.417551      0.872298\n",
              "Role-Playing    -0.072099  0.503777         1.200821      2.071855\n",
              "Shooter          0.290009 -0.156678         1.662664      0.334684\n",
              "Simulation      -0.062851 -0.010271         1.076356      0.992513\n",
              "Sports           0.040984 -0.063590         1.920633      0.729908\n",
              "Strategy        -0.252657 -0.015811         0.482094      0.558382"
            ]
          },
          "metadata": {
            "tags": []
          }
        },
        {
          "output_type": "execute_result",
          "data": {
            "text/html": [
              "<div>\n",
              "<style scoped>\n",
              "    .dataframe tbody tr th:only-of-type {\n",
              "        vertical-align: middle;\n",
              "    }\n",
              "\n",
              "    .dataframe tbody tr th {\n",
              "        vertical-align: top;\n",
              "    }\n",
              "\n",
              "    .dataframe thead th {\n",
              "        text-align: right;\n",
              "    }\n",
              "</style>\n",
              "<table border=\"1\" class=\"dataframe\">\n",
              "  <thead>\n",
              "    <tr style=\"text-align: right;\">\n",
              "      <th></th>\n",
              "      <th>0</th>\n",
              "    </tr>\n",
              "    <tr>\n",
              "      <th>Genre</th>\n",
              "      <th></th>\n",
              "    </tr>\n",
              "  </thead>\n",
              "  <tbody>\n",
              "    <tr>\n",
              "      <th>Action</th>\n",
              "      <td>0.292603</td>\n",
              "    </tr>\n",
              "    <tr>\n",
              "      <th>Adventure</th>\n",
              "      <td>0.401516</td>\n",
              "    </tr>\n",
              "    <tr>\n",
              "      <th>Fighting</th>\n",
              "      <td>0.461308</td>\n",
              "    </tr>\n",
              "    <tr>\n",
              "      <th>Misc</th>\n",
              "      <td>0.396672</td>\n",
              "    </tr>\n",
              "    <tr>\n",
              "      <th>Platform</th>\n",
              "      <td>0.836848</td>\n",
              "    </tr>\n",
              "    <tr>\n",
              "      <th>Puzzle</th>\n",
              "      <td>0.709812</td>\n",
              "    </tr>\n",
              "    <tr>\n",
              "      <th>Racing</th>\n",
              "      <td>0.745288</td>\n",
              "    </tr>\n",
              "    <tr>\n",
              "      <th>Role-Playing</th>\n",
              "      <td>0.629548</td>\n",
              "    </tr>\n",
              "    <tr>\n",
              "      <th>Shooter</th>\n",
              "      <td>0.286927</td>\n",
              "    </tr>\n",
              "    <tr>\n",
              "      <th>Simulation</th>\n",
              "      <td>0.398496</td>\n",
              "    </tr>\n",
              "    <tr>\n",
              "      <th>Sports</th>\n",
              "      <td>0.503321</td>\n",
              "    </tr>\n",
              "    <tr>\n",
              "      <th>Strategy</th>\n",
              "      <td>0.051665</td>\n",
              "    </tr>\n",
              "  </tbody>\n",
              "</table>\n",
              "</div>"
            ],
            "text/plain": [
              "                     0\n",
              "Genre                 \n",
              "Action        0.292603\n",
              "Adventure     0.401516\n",
              "Fighting      0.461308\n",
              "Misc          0.396672\n",
              "Platform      0.836848\n",
              "Puzzle        0.709812\n",
              "Racing        0.745288\n",
              "Role-Playing  0.629548\n",
              "Shooter       0.286927\n",
              "Simulation    0.398496\n",
              "Sports        0.503321\n",
              "Strategy      0.051665"
            ]
          },
          "metadata": {
            "tags": []
          },
          "execution_count": 119
        }
      ]
    },
    {
      "cell_type": "code",
      "metadata": {
        "colab": {
          "base_uri": "https://localhost:8080/",
          "height": 498
        },
        "id": "JH_Nzp2AX2DK",
        "outputId": "a513247f-6631-4bf9-f020-1f34def017cb"
      },
      "source": [
        "# 북미/유럽시장과 일본시장의 장르별 판매량에 대한 scatter plot\n",
        "\n",
        "import matplotlib.pyplot as plt\n",
        "import seaborn as sns\n",
        "\n",
        "sns.scatterplot(x='JP_Sales', \n",
        "                y='NA_EU_Sales', \n",
        "                hue='Genre', # different colors by group\n",
        "                s=50, # marker size\n",
        "                palette= ('#1f77b4', '#ff7f0e', '#2ca02c', '#d62728', '#9467bd', '#8c564b', '#e377c2', '#7f7f7f', '#bcbd22', '#17becf', 'black', 'blue', 'greenyellow', 'gold'),\n",
        "                data=df_genre_std)\n",
        "plt.legend(loc='best')\n",
        "#sns.regplot(\"JP_Sales\", \"NA_EU_Sales\", data=df_genre_std, ci=None, scatter=False)\n",
        "plt.ylim(-0.5, 0.5)\n",
        "plt.xlim(-0.6, 0.6)\n",
        "\n",
        "plt.show()"
      ],
      "execution_count": 141,
      "outputs": [
        {
          "output_type": "display_data",
          "data": {
            "image/png": "[encoded data removed]",
            "text/plain": [
              "<Figure size 1512x576 with 1 Axes>"
            ]
          },
          "metadata": {
            "tags": [],
            "needs_background": "light"
          }
        }
      ]
    },
    {
      "cell_type": "markdown",
      "metadata": {
        "id": "YLzsA-zcsY9w"
      },
      "source": [
        "\n",
        "위의 그래프를 해석해보면, \n",
        "\n",
        "Shooter 장르의 경우 북미/유럽에서의 평균 판매량은 12개의 게임장르 중 두전째로 높지만 일본에서는 열두번째로 가장 낮습니다.\n",
        "\n",
        "Role-playing 장르의 경우 일본에서의 평균 판매량은 첫번째로 높지만 북미/유럽에서의 판매량은 아홉번째로 낮은 편입니다.\n",
        "\n",
        "Platform 장르의 경우 북미/유럽 시장에서의 평균 판매량이 첫번째로 높으며, 일본시장에서의 판매량 또한 두번째로 높습니다.\n"
      ]
    },
    {
      "cell_type": "markdown",
      "metadata": {
        "id": "MCd3FZDwt0a3"
      },
      "source": [
        "\n",
        "종합하여 말씀드리면 **유럽/북미/일본시장을 타겟**으로 **Platform** 장르의 게임을 출시해야 하며,\n",
        "\n",
        "점유율이 가장 높은 **PS4와 Xone 버전**으로 먼저 출시 한 후에 **3DS 버전** 출시를 진행해야 합니다.\n",
        "\n",
        "다만 **Platform 게임의 경우 타 장르에 비해 판매량에 대한 표준편차가 큰 편**입니다. (\"df_genre_std\" 데이터프레임 참조)\n",
        "\n",
        "따라서 Platform 장르 중에 성공한 게임에 대한 충분한 케이스 스터디를 진행한 뒤에 게임 설계를 진행해야 할 것입니다. "
      ]
    },
    {
      "cell_type": "code",
      "metadata": {
        "colab": {
          "base_uri": "https://localhost:8080/",
          "height": 466
        },
        "id": "kCgUclgmPPk6",
        "outputId": "639b9a2d-1986-4a6c-dfa8-2252554184ec"
      },
      "source": [
        "# 퍼블리셔별 지역별 판매량\n",
        "df_pulisher = df.groupby(['Publisher'])['NA_Sales', 'EU_Sales', 'JP_Sales', 'Other_Sales'].sum()\n",
        "\n",
        "# 순서정렬\n",
        "df_pulisher = df_pulisher.sort_values(by='NA_Sales', axis=0, ascending=False)\n",
        "\n",
        "df_pulisher"
      ],
      "execution_count": 148,
      "outputs": [
        {
          "output_type": "stream",
          "text": [
            "/usr/local/lib/python3.7/dist-packages/ipykernel_launcher.py:2: FutureWarning: Indexing with multiple keys (implicitly converted to a tuple of keys) will be deprecated, use a list instead.\n",
            "  \n"
          ],
          "name": "stderr"
        },
        {
          "output_type": "execute_result",
          "data": {
            "text/html": [
              "<div>\n",
              "<style scoped>\n",
              "    .dataframe tbody tr th:only-of-type {\n",
              "        vertical-align: middle;\n",
              "    }\n",
              "\n",
              "    .dataframe tbody tr th {\n",
              "        vertical-align: top;\n",
              "    }\n",
              "\n",
              "    .dataframe thead th {\n",
              "        text-align: right;\n",
              "    }\n",
              "</style>\n",
              "<table border=\"1\" class=\"dataframe\">\n",
              "  <thead>\n",
              "    <tr style=\"text-align: right;\">\n",
              "      <th></th>\n",
              "      <th>NA_Sales</th>\n",
              "      <th>EU_Sales</th>\n",
              "      <th>JP_Sales</th>\n",
              "      <th>Other_Sales</th>\n",
              "    </tr>\n",
              "    <tr>\n",
              "      <th>Publisher</th>\n",
              "      <th></th>\n",
              "      <th></th>\n",
              "      <th></th>\n",
              "      <th></th>\n",
              "    </tr>\n",
              "  </thead>\n",
              "  <tbody>\n",
              "    <tr>\n",
              "      <th>Nintendo</th>\n",
              "      <td>808.14</td>\n",
              "      <td>410.34</td>\n",
              "      <td>447.43</td>\n",
              "      <td>93.67</td>\n",
              "    </tr>\n",
              "    <tr>\n",
              "      <th>Electronic Arts</th>\n",
              "      <td>579.90</td>\n",
              "      <td>366.11</td>\n",
              "      <td>13.98</td>\n",
              "      <td>127.19</td>\n",
              "    </tr>\n",
              "    <tr>\n",
              "      <th>Activision</th>\n",
              "      <td>425.10</td>\n",
              "      <td>213.17</td>\n",
              "      <td>6.54</td>\n",
              "      <td>74.55</td>\n",
              "    </tr>\n",
              "    <tr>\n",
              "      <th>Sony Computer Entertainment</th>\n",
              "      <td>263.70</td>\n",
              "      <td>186.74</td>\n",
              "      <td>73.72</td>\n",
              "      <td>79.42</td>\n",
              "    </tr>\n",
              "    <tr>\n",
              "      <th>Ubisoft</th>\n",
              "      <td>252.26</td>\n",
              "      <td>162.99</td>\n",
              "      <td>7.33</td>\n",
              "      <td>50.12</td>\n",
              "    </tr>\n",
              "    <tr>\n",
              "      <th>...</th>\n",
              "      <td>...</td>\n",
              "      <td>...</td>\n",
              "      <td>...</td>\n",
              "      <td>...</td>\n",
              "    </tr>\n",
              "    <tr>\n",
              "      <th>New</th>\n",
              "      <td>0.00</td>\n",
              "      <td>0.00</td>\n",
              "      <td>0.33</td>\n",
              "      <td>0.02</td>\n",
              "    </tr>\n",
              "    <tr>\n",
              "      <th>Societa</th>\n",
              "      <td>0.00</td>\n",
              "      <td>0.00</td>\n",
              "      <td>0.04</td>\n",
              "      <td>0.00</td>\n",
              "    </tr>\n",
              "    <tr>\n",
              "      <th>NetRevo</th>\n",
              "      <td>0.00</td>\n",
              "      <td>0.00</td>\n",
              "      <td>0.03</td>\n",
              "      <td>0.00</td>\n",
              "    </tr>\n",
              "    <tr>\n",
              "      <th>Sonnet</th>\n",
              "      <td>0.00</td>\n",
              "      <td>0.00</td>\n",
              "      <td>0.06</td>\n",
              "      <td>0.00</td>\n",
              "    </tr>\n",
              "    <tr>\n",
              "      <th>Rocket Company</th>\n",
              "      <td>0.00</td>\n",
              "      <td>0.00</td>\n",
              "      <td>1.82</td>\n",
              "      <td>0.00</td>\n",
              "    </tr>\n",
              "  </tbody>\n",
              "</table>\n",
              "<p>575 rows × 4 columns</p>\n",
              "</div>"
            ],
            "text/plain": [
              "                             NA_Sales  EU_Sales  JP_Sales  Other_Sales\n",
              "Publisher                                                             \n",
              "Nintendo                       808.14    410.34    447.43        93.67\n",
              "Electronic Arts                579.90    366.11     13.98       127.19\n",
              "Activision                     425.10    213.17      6.54        74.55\n",
              "Sony Computer Entertainment    263.70    186.74     73.72        79.42\n",
              "Ubisoft                        252.26    162.99      7.33        50.12\n",
              "...                               ...       ...       ...          ...\n",
              "New                              0.00      0.00      0.33         0.02\n",
              "Societa                          0.00      0.00      0.04         0.00\n",
              "NetRevo                          0.00      0.00      0.03         0.00\n",
              "Sonnet                           0.00      0.00      0.06         0.00\n",
              "Rocket Company                   0.00      0.00      1.82         0.00\n",
              "\n",
              "[575 rows x 4 columns]"
            ]
          },
          "metadata": {
            "tags": []
          },
          "execution_count": 148
        }
      ]
    }
  ]
}